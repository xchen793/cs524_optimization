{
 "cells": [
  {
   "cell_type": "markdown",
   "metadata": {},
   "source": [
    "# problem 1"
   ]
  },
  {
   "cell_type": "code",
   "execution_count": 31,
   "metadata": {},
   "outputs": [
    {
     "name": "stdout",
     "output_type": "stream",
     "text": [
      "Produce [10.0 10.0 10.0 12.0 15.0 10.0] tons of bacteria each month\n",
      "There is [0.0 0.0 0.0 2.0 5.0 0.0] increased production each month\n",
      "There is [0.0 0.0 0.0 0.0 0.0 0.0] decreased production each month\n",
      "Inventory: [1.0 6.0 8.0 0.0 0.0 7.0]\n",
      "Backlog: [0.0 0.0 0.0 0.0 0.0 0.0]\n",
      "Cost: 3180.0\n",
      "Coin0506I Presolve 17 (-2) rows, 41 (-1) columns and 57 (-3) elements\n",
      "Clp0006I 0  Obj 0 Primal inf 105.99999 (12)\n",
      "Clp0006I 17  Obj 3180\n",
      "Clp0000I Optimal - objective value 3180\n",
      "Coin0511I After Postsolve, objective 3180, infeasibilities - dual 0 (0), primal 0 (0)\n",
      "Clp0032I Optimal objective 3180 - 17 iterations time 0.002, Presolve 0.00\n"
     ]
    }
   ],
   "source": [
    "### DATA ###\n",
    "d = [10 5 8 20 15 3] # monthly bacteria demand\n",
    "\n",
    "i_0 = 1 # starting inventory\n",
    "\n",
    "### MODEL ###\n",
    "m = Model(Clp.Optimizer)\n",
    "\n",
    "@variable(m, x[1:6] >= 0 ) # bacteria produced in month t=1,2,3,4\n",
    "@variable(m, h[1:6] >= 0 ) # production increased in month t=1,2,3,4,5,6\n",
    "@variable(m, f[1:6] >= 0 ) # production decreased in month t=1,2,3,4,5,6\n",
    "@variable(m, i[1:6] >= 0 ) # bacteria in inventory in month t=1,2,3,4,5,6 \n",
    "@variable(m, 0 <= L1[1:6] <= 3 ) # bacteria leftover (<=3) in month t=1,2,3,4,5,6\n",
    "@variable(m, L[1:6] >= 0 ) # bacteria leftover (>3) in month t=1,2,3,4,5,6\n",
    "@variable(m, S[1:6] >= 0 ) # bacteria backlogged in month t=1,2,3,4,5,6\n",
    "        \n",
    "# our objective is to minimize the total cost\n",
    "@objective(m, Min,  240*sum(h) + 210*sum(f) + 60*sum(L1) + 75*sum(L) + 80*sum(S))\n",
    "\n",
    "\n",
    "# PRODUCTION BALANCE #\n",
    "# current rate of production + production increased rate - production decreased rate = total production rate\n",
    "@constraint(m, pro_bal[t in 1:6], x[t] == 10 + h[t] - f[t] )\n",
    "\n",
    "# INVENTORY BALANCE #\n",
    "# amount we start with + amount we produce = amount we use + amount that stores to next month\n",
    "\n",
    "# balance inventory in the first month \n",
    "@constraint(m, inv_bal_init, 1 + x[1] == d[1] + i[1])\n",
    "# balance inventory for all months after the first\n",
    "@constraint(m, inv_bal[t in 2:6], i[t-1] + x[t] == d[t] + i[t])\n",
    "# include a constraint that requires inventory to be the difference\n",
    "# between leftovers and shortage each month\n",
    "@constraint(m, inv_ident[t in 1:6], i[t] == L1[t] + L[t] - S[t])\n",
    "# at least 2 tons in storage at the end of December\n",
    "@constraint(m, final, i[6] >= 2) \n",
    "\n",
    "# solve this instance and print relevant solution details\n",
    "optimize!(m)\n",
    "\n",
    "# note we use the Array function to turn the list of solution values into an Array.\n",
    "# this helps with solution legibility.\n",
    "println(\"Produce \", Array(value.(x')), \" tons of bacteria each month\")\n",
    "println(\"There is \", Array(value.(h')), \" increased production each month\")\n",
    "println(\"There is \", Array(value.(f')), \" decreased production each month\")\n",
    "println(\"Inventory: \", Array(value.(i')))\n",
    "println(\"Backlog: \", Array(value.(S')))\n",
    "println(\"Cost: \", objective_value(m))"
   ]
  },
  {
   "cell_type": "code",
   "execution_count": 32,
   "metadata": {},
   "outputs": [
    {
     "name": "stdout",
     "output_type": "stream",
     "text": [
      "Produce [17.0 10.0 10.0 10.0 10.0 10.0] tons of bacteria each month\n",
      "There is [7.0 0.0 0.0 0.0 0.0 0.0] increased production each month\n",
      "There is [0.0 0.0 0.0 0.0 0.0 0.0] decreased production each month\n",
      "Inventory: [8.0 13.0 15.0 5.0 0.0 7.0]\n",
      "Backlog: [0.0 0.0 0.0 0.0 0.0 0.0]\n",
      "Cost: 1680.0\n",
      "Coin0506I Presolve 11 (-2) rows, 22 (-2) columns and 32 (-4) elements\n",
      "Clp0006I 0  Obj 0 Primal inf 103.99999 (11)\n",
      "Clp0006I 10  Obj 1680\n",
      "Clp0000I Optimal - objective value 1680\n",
      "Coin0511I After Postsolve, objective 1680, infeasibilities - dual 0 (0), primal 0 (0)\n",
      "Clp0032I Optimal objective 1680 - 10 iterations time 0.002, Presolve 0.00\n"
     ]
    }
   ],
   "source": [
    "### DATA ###\n",
    "d = [10 5 8 20 15 3] # monthly bacteria demand\n",
    "\n",
    "i_0 = 1 # starting inventory\n",
    "\n",
    "### MODEL ###\n",
    "m = Model(Clp.Optimizer)\n",
    "\n",
    "### MODEL ###\n",
    "m = Model(Clp.Optimizer)\n",
    "\n",
    "@variable(m, x[1:6] >= 0 ) # bacteria produced in month t=1,2,3,4\n",
    "@variable(m, h[1:6] >= 0 ) # production increased in month t=1,2,3,4,5,6\n",
    "@variable(m, f[1:6] >= 0 ) # production decreased in month t=1,2,3,4,5,6\n",
    "@variable(m, i[1:6] >= 0 ) # bacteria in inventory in month t=1,2,3,4,5,6 \n",
    "\n",
    "\n",
    "# our objective is to minimize the total cost\n",
    "@objective(m, Min,  240*sum(h) + 210*sum(f)) #60 for the initial inventory storage fee\n",
    "\n",
    "# PRODUCTION BALANCE #\n",
    "# current rate of production + production increased rate - production decreased rate = total production rate\n",
    "@constraint(m, pro_bal[t in 1:6], x[t] == 10 + h[t] - f[t] )\n",
    "\n",
    "# INVENTORY BALANCE #\n",
    "# amount we start with + amount we produce = amount we use + amount that stores to next month\n",
    "\n",
    "# balance inventory in the first month \n",
    "@constraint(m, inv_bal_init, 1 + x[1] == d[1] + i[1])\n",
    "# balance inventory for all months after the first\n",
    "@constraint(m, inv_bal[t in 2:6], i[t-1] + x[t] == d[t] + i[t])\n",
    "# at least 2 tons in storage at the end of December\n",
    "@constraint(m, final, i[6] >= 2) \n",
    "\n",
    "# solve this instance and print relevant solution details\n",
    "optimize!(m)\n",
    "\n",
    "# note we use the Array function to turn the list of solution values into an Array.\n",
    "# this helps with solution legibility.\n",
    "println(\"Produce \", Array(value.(x')), \" tons of bacteria each month\")\n",
    "println(\"There is \", Array(value.(h')), \" increased production each month\")\n",
    "println(\"There is \", Array(value.(f')), \" decreased production each month\")\n",
    "println(\"Inventory: \", Array(value.(i')))\n",
    "println(\"Backlog: \", Array(value.(S')))\n",
    "println(\"Cost: \", objective_value(m))\n"
   ]
  },
  {
   "cell_type": "markdown",
   "metadata": {},
   "source": [
    "Ans: save money if we instead met demand every month, since there is no backlog, it can save 1500."
   ]
  },
  {
   "cell_type": "markdown",
   "metadata": {},
   "source": [
    "# problem 2 "
   ]
  },
  {
   "cell_type": "code",
   "execution_count": 44,
   "metadata": {},
   "outputs": [
    {
     "name": "stdout",
     "output_type": "stream",
     "text": [
      "\u001b[32m\u001b[1m Resolving\u001b[22m\u001b[39m package versions...\n",
      "\u001b[32m\u001b[1m Installed\u001b[22m\u001b[39m Cgl_jll ─ v0.60.2+5\n",
      "\u001b[32m\u001b[1m Installed\u001b[22m\u001b[39m Cbc ───── v0.7.0\n",
      "\u001b[32m\u001b[1m Installed\u001b[22m\u001b[39m Cbc_jll ─ v2.10.3+4\n",
      "\u001b[32m\u001b[1m  Updating\u001b[22m\u001b[39m `~/.julia/environments/v1.3/Project.toml`\n",
      " \u001b[90m [9961bab8]\u001b[39m\u001b[92m + Cbc v0.7.0\u001b[39m\n",
      "\u001b[32m\u001b[1m  Updating\u001b[22m\u001b[39m `~/.julia/environments/v1.3/Manifest.toml`\n",
      " \u001b[90m [9961bab8]\u001b[39m\u001b[92m + Cbc v0.7.0\u001b[39m\n",
      " \u001b[90m [38041ee0]\u001b[39m\u001b[92m + Cbc_jll v2.10.3+4\u001b[39m\n",
      " \u001b[90m [3830e938]\u001b[39m\u001b[92m + Cgl_jll v0.60.2+5\u001b[39m\n",
      "\u001b[32m\u001b[1m  Building\u001b[22m\u001b[39m Cbc → `~/.julia/packages/Cbc/f5sSt/deps/build.log`\n"
     ]
    },
    {
     "name": "stderr",
     "output_type": "stream",
     "text": [
      "┌ Info: Precompiling Cbc [9961bab8-2fa3-5c5a-9d89-47fab24efd76]\n",
      "└ @ Base loading.jl:1273\n"
     ]
    },
    {
     "name": "stdout",
     "output_type": "stream",
     "text": [
      "3×4 Named Array{Int64,2}\n",
      "ways ╲ sites │ 1  2  3  4\n",
      "─────────────┼───────────\n",
      "1            │ 0  0  0  0\n",
      "2            │ 1  0  1  1\n",
      "3            │ 0  1  0  0\n",
      "Total cost will be $13200.0\n",
      "Welcome to the CBC MILP Solver \n",
      "Version: 2.10.3 \n",
      "Build Date: May 23 2020 \n",
      "\n",
      "command line - Cbc_C_Interface -solve -quit (default strategy 1)\n",
      "Continuous objective value is 13200 - 0.00 seconds\n",
      "Cgl0004I processed model has 0 rows, 0 columns (0 integer (0 of which binary)) and 0 elements\n",
      "Cbc3007W No integer variables - nothing to do\n",
      "Cuts at root node changed objective from 13200 to -1.79769e+308\n",
      "Probing was tried 0 times and created 0 cuts of which 0 were active after adding rounds of cuts (0.000 seconds)\n",
      "Gomory was tried 0 times and created 0 cuts of which 0 were active after adding rounds of cuts (0.000 seconds)\n",
      "Knapsack was tried 0 times and created 0 cuts of which 0 were active after adding rounds of cuts (0.000 seconds)\n",
      "Clique was tried 0 times and created 0 cuts of which 0 were active after adding rounds of cuts (0.000 seconds)\n",
      "MixedIntegerRounding2 was tried 0 times and created 0 cuts of which 0 were active after adding rounds of cuts (0.000 seconds)\n",
      "FlowCover was tried 0 times and created 0 cuts of which 0 were active after adding rounds of cuts (0.000 seconds)\n",
      "TwoMirCuts was tried 0 times and created 0 cuts of which 0 were active after adding rounds of cuts (0.000 seconds)\n",
      "ZeroHalf was tried 0 times and created 0 cuts of which 0 were active after adding rounds of cuts (0.000 seconds)\n",
      "\n",
      "Result - Optimal solution found\n",
      "\n",
      "Objective value:                13200.00000000\n",
      "Enumerated nodes:               0\n",
      "Total iterations:               0\n",
      "Time (CPU seconds):             0.00\n",
      "Time (Wallclock seconds):       0.00\n",
      "\n",
      "Total time (CPU seconds):       0.00   (Wallclock seconds):       0.00\n",
      "\n"
     ]
    }
   ],
   "source": [
    "### DATA ###\n",
    "import Pkg;\n",
    "Pkg.add(\"Cbc\")\n",
    "using JuMP, Clp, NamedArrays,Cbc\n",
    "\n",
    "# create index sets of storage sites and crime lords\n",
    "sites = [ 1,  2,  3, 4]\n",
    "ways = [1, 2, 3]\n",
    "\n",
    "# create NamedArray \n",
    "cost = NamedArray( [30 25 40 60;25 40 45 50;40 20 50 45], (ways,sites), (\"ways\",\"sites\") )\n",
    "switchcost = NamedArray( [0 500 1200;800 0 1000;1500 1000 0], (ways,ways), (\"ways\",\"ways\") )\n",
    "\n",
    "\n",
    "### MODEL ###\n",
    "m = Model(Cbc.Optimizer)\n",
    "\n",
    "@variable(m, x[ways,sites] >= 0, Bin)  \n",
    " \n",
    "@constraint(m, dem[j in sites], sum(x[i,j]  for i in ways) == 1 )  \n",
    "\n",
    "@objective(m, Min, sum(x[t,4]*25*cost[t,4] for t in ways)+sum( x[i,j]*25*cost[i,j]+x[k,j+1]*switchcost[i,k] for i in ways,k in ways,j in ways ) )\n",
    "\n",
    "optimize!(m)\n",
    "\n",
    "# print out solution\n",
    "s = NamedArray( Int[value(x[i,j]) for i in ways, j in sites], (ways,sites), (\"ways\",\"sites\") )\n",
    "println(s)\n",
    "println(\"Total cost will be \\$\", objective_value(m))"
   ]
  },
  {
   "cell_type": "markdown",
   "metadata": {},
   "source": [
    "# problem 3 "
   ]
  },
  {
   "cell_type": "markdown",
   "metadata": {},
   "source": [
    "(a) Is it possible to construct a plan where each of the 8 astronauts gets to fly?\n",
    "    \n",
    "    Ans: Yes, it is possible."
   ]
  },
  {
   "cell_type": "markdown",
   "metadata": {},
   "source": [
    "(b) If yes, find at least two valid assignments of the 8 astronauts to the 4 flights. If no, soften the requirement to\n",
    "the skills being nonzero in at least two different areas for each set of skills and find two valid crews.\n",
    "\n",
    "    A: 1-3; 2-4; 5-6; 7-8\n",
    "    B: 1-3; 2-4; 5-7; 6-8"
   ]
  },
  {
   "cell_type": "markdown",
   "metadata": {},
   "source": [
    "(c) For the valid assignments you found in part (b), list all the skills in wich at least one astronaut has a score of\n",
    " ≥ 10/20 on each of the 4 flights.\n",
    " \n",
    " A: <br>\n",
    " 1-3: Mission critical: Computing/IT (20); Piloting (12); Mechanical engineering (12) <br>\n",
    "      Colony establishment: Agriculture (18); Electronics (10); Air \\& water (14)<br>\n",
    " 2-4: Mission critical: Computing/IT (14); Piloting (10); Mechanical engineering (20)<br>\n",
    "      Colony establishment: Agriculture (12); Electronics (14); Astrobiology (17)<br>\n",
    " 5-6: Mission critical: Piloting (20); Mechanical engineering (11); Health/safety (17)<br>\n",
    "      Colony establishment: Electronics (15); Astrobiology (13); Air \\& water (12); Geology (18)<br>\n",
    " 7-8: Mission critical: Mechanical engineering (14); Health/safety (16)<br>\n",
    "      Colony establishment: Electronics (13); Air \\& water (16); Geology(18)<br>\n",
    "      \n",
    " B: <br>\n",
    " 1-3: Mission critical: Computing/IT (20); Piloting (12); Mechanical engineering (12) <br>\n",
    "      Colony establishment: Agriculture (18); Electronics (10); Air \\& water (14)<br>\n",
    " 2-4: Mission critical: Computing/IT (14); Piloting (10); Mechanical engineering (20)<br>\n",
    "      Colony establishment: Agriculture (12); Electronics (14); Astrobiology (17)<br>\n",
    " 5-7: Mission critical: Piloting (15); Mechanical engineering (14); Health/safety (17)<br>\n",
    "      Colony establishment: Electronics (15); Astrobiology (13); Air \\& water (16); Geology (12)<br>\n",
    " 6-8: Mission critical: Piloting (20); Mechanical engineering (12); Health/safety (16)<br>\n",
    "      Colony establishment: Electronics (13); Astrobiology (10); Air \\& water (12); Geology(18)     "
   ]
  },
  {
   "cell_type": "code",
   "execution_count": null,
   "metadata": {},
   "outputs": [],
   "source": [
    "using JuMP, Clp, NamedArrays\n",
    "\n",
    "# create the index sets (skillsets, Astronauts)\n",
    "Astronauts = [ :A, :B :C, :D, :E, :F, :G, :H ]\n",
    "skillsets  = [ :IT, :Pi, :ME, :Heal, :Agri, :Elec, :Astro, :AW, :Geo ]\n",
    "\n",
    "skills = [ 20 14 0 13 0 0 8 8\n",
    "        12 0 0 10 15 20 8 9\n",
    "        0 20 12 0 8 11 14 12\n",
    "        0 0 0 0 17 0 0 16\n",
    "        18 12 15 0 0 0 8 0\n",
    "        10 0 9 14 15 8 12 13\n",
    "        0 17 0 11 13 10 0 0\n",
    "        0 0 14 0 0 12 16 0\n",
    "        0 0 0 0 12 18 0 18]\n",
    "\n",
    "# create a NamedArray \n",
    "preferences = NamedArray( skills, (skillsets,Astronauts), (\"skillset\",\"Astronaut\"))\n",
    "\n",
    "m = Model(Clp.Optimizer)\n",
    "\n",
    "@variable(m, x[skillsets,Astronauts] >= 0)\n",
    "\n",
    "# maximize overall preference\n",
    "@objective(m, Max, sum( x[i,j]*preferences[i,j] for i in sandwiches, j in kids ) )\n"
   ]
  },
  {
   "cell_type": "markdown",
   "metadata": {},
   "source": [
    "# problem 4"
   ]
  },
  {
   "cell_type": "code",
   "execution_count": null,
   "metadata": {},
   "outputs": [],
   "source": []
  },
  {
   "cell_type": "code",
   "execution_count": null,
   "metadata": {},
   "outputs": [],
   "source": []
  },
  {
   "cell_type": "code",
   "execution_count": null,
   "metadata": {},
   "outputs": [],
   "source": []
  }
 ],
 "metadata": {
  "kernelspec": {
   "display_name": "Julia 1.3.1",
   "language": "julia",
   "name": "julia-1.3"
  },
  "language_info": {
   "file_extension": ".jl",
   "mimetype": "application/julia",
   "name": "julia",
   "version": "1.3.1"
  }
 },
 "nbformat": 4,
 "nbformat_minor": 4
}
