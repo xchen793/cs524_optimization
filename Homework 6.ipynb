{
 "cells": [
  {
   "cell_type": "markdown",
   "metadata": {},
   "source": [
    "# Homework \\#6\n",
    "Due August 5 @ 11:59pm\n",
    "\n",
    "## Submission requirements\n",
    "Upload a **single PDF file** of your IJulia notebook for this entire assigment. Clearly denote which question each section of your PDF corresponds to."
   ]
  },
  {
   "cell_type": "markdown",
   "metadata": {},
   "source": [
    "## Problem 1 -- Vehicle Routing\n",
    "\n",
    "A local bakeshop wants determine the minimum cost plan for picking up its daily supply of milk, butter, and eggs from the four farms that supply the bakeshop.  The distance (in miles) between the bakeshop (B) and each farm, and also between each pair of farms, is given in the table below. The table also gives the volume of milk, butter, and eggs (total, in ft$^3$) to be collected from\n",
    "each farm each day. (The distance between locations is the same in both directions, so for each pair of locations the distance is only reported once.)\n",
    "\n",
    "| |B | F1 | F2| F3 | F4 |\n",
    "|:--|:--|:--|:--|:--|:--|\n",
    "|B| - | 5 | 12 | 7 | 15|\n",
    "|F1| - | - | 4 | 10 | 7 |\n",
    "|F2| - | - | - | 14 | 20|\n",
    "|F3| - | - | - | - |8 |\n",
    "| | F1 | F2 | F3 | F4 |\n",
    "|Supply (ft$^3$)|  7 | 2 | 6 | 3 |\n",
    "\n",
    "The bakeshop has one truck that can carry at most 10 ft$^3$ of supplies at a time. Because of the size limit, the\n",
    "truck will need to make multiple trips each day to collect the supplies from all the farms. Each trip may pick up supplies from one or more farms, provided the total collected in the trip does not exceed the truck limit. \n",
    "\n",
    "Formulate an integer program to help the bakeshop assign farms to the trips so that the total number of trips required every day is minimized  (Hint: model the problem as a set covering problem. The first step will be to list all possible routes a truck can take.)"
   ]
  },
  {
   "cell_type": "code",
   "execution_count": 1,
   "metadata": {},
   "outputs": [
    {
     "name": "stdout",
     "output_type": "stream",
     "text": [
      "Academic license - for non-commercial use only\n",
      "Academic license - for non-commercial use only\n",
      "trip 6\n",
      "trip 7\n"
     ]
    }
   ],
   "source": [
    "# model\n",
    "# M = {F1, F2, F3, F4}; S is set of subsets of M covering \n",
    "# all elements of M. The goal is to minimize the S cardinality\n",
    "\n",
    "# first step: list all possible routes a truck can take\n",
    "# S = {{F1}, {F2}, {F3}, {F4}, {F1, F2}, {F1, F4}, {F2, F3}, {F2, F4}, {F3, F4}} \n",
    "\n",
    "using JuMP, Gurobi, NamedArrays\n",
    "\n",
    "# array of trips\n",
    "trips = [1,2,3,4,5,6,7,8,9] \n",
    "\n",
    "# array of farms\n",
    "farms = [1,2,3,4] \n",
    "\n",
    "\n",
    "# A is a matrix with rows representing possible trips and columns representing \n",
    "# the farms covered by that trip\n",
    "A = [1 0 0 0 \n",
    "    0 1 0 0 \n",
    "    0 0 1 0 \n",
    "    0 0 0 1 \n",
    "    1 1 0 0\n",
    "    1 0 0 1\n",
    "    0 1 1 0\n",
    "    0 1 0 1\n",
    "    0 0 1 1]\n",
    ";\n",
    "\n",
    "m = Model(Gurobi.Optimizer)\n",
    "set_optimizer_attribute(m, \"OutputFlag\", 0)\n",
    "\n",
    "# binary variable for whether include a farm in each trip\n",
    "@variable(m, x[trips], Bin)\n",
    "\n",
    "# each farm should be covered by at least one trip\n",
    "for i in farms\n",
    "    @constraint(m, sum(A[j,i]x[j] for j in trips ) >= 1)\n",
    "end\n",
    "\n",
    "# minimize the total number of trips\n",
    "@objective(m, Min, sum(x))\n",
    "\n",
    "optimize!(m)\n",
    "\n",
    "\n",
    "for i in trips\n",
    "    if value(x[i]) == 1\n",
    "        println(\"trip \", i)\n",
    "    end\n",
    "end"
   ]
  },
  {
   "cell_type": "markdown",
   "metadata": {},
   "source": [
    "**Ans:** If not considering the distance, then the minimum amount of trips is 2, with {F1, F4} and {F2, F3}."
   ]
  },
  {
   "cell_type": "markdown",
   "metadata": {},
   "source": [
    "## Problem 2 -- The Magical Baked Goods Machine\n",
    "\n",
    "Suppose you are in charge of a magical baked goods machine that creates delicious baked goods of many varieties. Every day, the machine creates batches of 5 different baked goods. To produce a batch of a baked good, you must first clean the machine to remove the remnants of the previous batch of bakery treats (e.g., the workflow could be, \"clean, make bread, clean, make donuts,...\"). The durations of baking each of the 5 items (donuts, bread, cookies, scones, and coffee cake) are 40, 32, 50, 28, and 47 minutes respectively. The cleaning times depend on the item that was previously made in the machine. For example, a long cleaning period is required if bread is made after scones, since the scones leave a sticky residue from the dried fruit they contain that can ruin the bread. The times are given in minutes in the following table. Each pair $(i,j)$ is the cleaning time required if batch $j$ is baked after batch $i$.\n",
    "\n",
    "|Baked good|Donut|Scone|Cookie|Bread|Coffee Cake|\n",
    "|:---|:---|:----|:---|:---|:---|\n",
    "|Donut|0|10|6|15|9|\n",
    "|Scone|4|0|6|17|8|\n",
    "|Cookie|10|11|0|20|14|\n",
    "|Bread|7|15|6|0|2|\n",
    "|Coffee Cake|5|8|7|7|0|\n",
    "\n",
    "We'd obviously like to spend as little time as possible baking and cleaning. What order should we produce the 5 bakery items in? How long do we spend baking and cleaning each day? The order is the same every day, so the cleaning time between the last batch of one week and the first of the following week needs to be accounted for in the total duration of cleaning.\n",
    "\n",
    "Solve this problem as a TSP. You may use either MTZ reformulation or subtour elimination (or both, for fun!)."
   ]
  },
  {
   "cell_type": "markdown",
   "metadata": {},
   "source": [
    "## Get all subtours helper function"
   ]
  },
  {
   "cell_type": "code",
   "execution_count": 4,
   "metadata": {},
   "outputs": [
    {
     "data": {
      "text/plain": [
       "getAllSubtours (generic function with 1 method)"
      ]
     },
     "execution_count": 4,
     "metadata": {},
     "output_type": "execute_result"
    }
   ],
   "source": [
    "# HELPER FUNCTION: returns the cycle containing the city START.\n",
    "function getSubtour(x,start)\n",
    "    subtour = [start]\n",
    "    while true\n",
    "        j = subtour[end]\n",
    "        for k in foods\n",
    "            if x[k,j] == 1\n",
    "                push!(subtour,k)\n",
    "                break\n",
    "            end\n",
    "        end\n",
    "        if subtour[end] == start\n",
    "            break\n",
    "        end\n",
    "    end\n",
    "    return subtour\n",
    "end\n",
    "\n",
    "# HELPER FUNCTION: returns a list of all cycles\n",
    "function getAllSubtours(x)\n",
    "    nodesRemaining = foods\n",
    "    subtours = []\n",
    "    while length(nodesRemaining) > 0\n",
    "        subtour = getSubtour(x,nodesRemaining[1])\n",
    "        push!(subtours, subtour)\n",
    "        nodesRemaining = setdiff(nodesRemaining,subtour)\n",
    "    end\n",
    "    return subtours\n",
    "end\n"
   ]
  },
  {
   "cell_type": "markdown",
   "metadata": {},
   "source": [
    "## Solve TSP using adaptive subtour elimination"
   ]
  },
  {
   "cell_type": "code",
   "execution_count": 2,
   "metadata": {},
   "outputs": [],
   "source": [
    "# Define the problem data (baked goods and costs)\n",
    "using JuMP, NamedArrays, Gurobi\n",
    "\n",
    "foods = [:donut, :scone, :cookie, :bread, :coffeecake]\n",
    "\n",
    "costs  =    [ 0  10  6  15   9   \n",
    "              4   0  6  17   8\n",
    "             10  11  0  20  14\n",
    "              7  15  6   0   2\n",
    "              5   8  7   7   0]\n",
    "\n",
    "c = NamedArray(costs,(foods,foods))\n",
    "N = size(costs,1);\n"
   ]
  },
  {
   "cell_type": "code",
   "execution_count": 7,
   "metadata": {},
   "outputs": [
    {
     "data": {
      "text/plain": [
       "2-element Array{Any,1}:\n",
       " Symbol[:donut, :scone, :cookie, :donut]\n",
       " Symbol[:bread, :coffeecake, :bread]    "
      ]
     },
     "metadata": {},
     "output_type": "display_data"
    },
    {
     "name": "stdout",
     "output_type": "stream",
     "text": [
      "Academic license - for non-commercial use only\n",
      "Academic license - for non-commercial use only\n",
      "Tour length: 227.0\n"
     ]
    },
    {
     "data": {
      "text/plain": [
       "1-element Array{Any,1}:\n",
       " Symbol[:donut, :scone, :cookie, :bread, :coffeecake, :donut]"
      ]
     },
     "metadata": {},
     "output_type": "display_data"
    },
    {
     "name": "stdout",
     "output_type": "stream",
     "text": [
      "Tour length: 234.0\n",
      "SOLVED!\n"
     ]
    }
   ],
   "source": [
    "m = Model(Gurobi.Optimizer)\n",
    "set_optimizer_attribute(m, \"OutputFlag\", 0)\n",
    "\n",
    "@variable(m, x[foods,foods], Bin)                                \n",
    "@constraint(m, c1[j in foods], sum( x[i,j] for i in foods ) == 1)    # exacly one edge out of each node\n",
    "@constraint(m, c2[i in foods], sum( x[i,j] for j in foods ) == 1)    # exactly one edge into each node\n",
    "@constraint(m, c3[i in foods], x[i,i] == 0 )                          # no self-loops\n",
    "@objective(m, Min, sum( x[i,j]*c[i,j] for i in foods, j in foods )+40+32+50+28+47)  # minimize total cost\n",
    "optimize!(m)\n",
    "\n",
    "sols = []\n",
    "# we'll run the heuristic 30 times and hope we get an optimal solution\n",
    "for iters = 1:30\n",
    "    optimize!(m)\n",
    "    # total  length of current tour\n",
    "    println(\"Tour length: \", objective_value(m))\n",
    "    xx = value.(x) # save solution\n",
    "    push!(sols,xx) # save solution\n",
    "    subtours = getAllSubtours(xx)  # get all the subtours\n",
    "    display(subtours) \n",
    "    sleep(1)\n",
    "    # get length of the subtour list\n",
    "    len = length(subtours)\n",
    "    if len == 1                    \n",
    "        # solution is just a single tour!\n",
    "        println(\"SOLVED!\")\n",
    "        break\n",
    "    else\n",
    "        for subtour in subtours\n",
    "            L = length(subtour)\n",
    "            # add constraints that cut off each subtour in the list (add two for each subtour)\n",
    "            @constraint(m, sum( x[subtour[k+1],subtour[k]] for k = 1:L-1 ) <= L-2)\n",
    "            @constraint(m, sum( x[subtour[k],subtour[k+1]] for k = 1:L-1 ) <= L-2)\n",
    "        end\n",
    "    end\n",
    "end"
   ]
  },
  {
   "cell_type": "markdown",
   "metadata": {},
   "source": [
    "## Miller-Tucker-Zemlin formulation"
   ]
  },
  {
   "cell_type": "code",
   "execution_count": 8,
   "metadata": {},
   "outputs": [
    {
     "data": {
      "text/plain": [
       "1-element Array{Any,1}:\n",
       " Symbol[:donut, :scone, :cookie, :bread, :coffeecake, :donut]"
      ]
     },
     "metadata": {},
     "output_type": "display_data"
    },
    {
     "name": "stdout",
     "output_type": "stream",
     "text": [
      "Academic license - for non-commercial use only\n",
      "Academic license - for non-commercial use only\n",
      "Tour length: 234.0\n"
     ]
    }
   ],
   "source": [
    "m = Model(Gurobi.Optimizer)\n",
    "set_optimizer_attribute(m, \"OutputFlag\", 0)\n",
    "\n",
    "@variable(m, x[foods,foods], Bin)                                      # must formulate as IP this time\n",
    "@constraint(m, c1[j in foods], sum( x[i,j] for i in foods ) == 1)      # one out-edge\n",
    "@constraint(m, c2[i in foods], sum( x[i,j] for j in foods ) == 1)      # one in-edge\n",
    "@constraint(m, c3[i in foods], x[i,i] == 0 )                            # no self-loops\n",
    "@objective(m, Min, sum( x[i,j]*c[i,j] for i in foods, j in foods )+40+32+50+28+47)   # minimize total cost\n",
    "                                    \n",
    "# MTZ variables and constraints\n",
    "@variable(m, u[foods])\n",
    "@constraint(m, c4[i in foods, j in foods[2:end]], u[i] - u[j] + N*x[i,j] <= N-1 )\n",
    "\n",
    "optimize!(m)\n",
    "xx = value.(x)\n",
    "subtours = getAllSubtours(xx) \n",
    "display(subtours)\n",
    "println(\"Tour length: \", objective_value(m))"
   ]
  },
  {
   "cell_type": "markdown",
   "metadata": {},
   "source": [
    "**Ans:** (1)The order should be donut, scone, cookie, bread, coffeecake, donut, ... . \n",
    "(2)We need 234 min to finish a batch. (cleaning: 37 min & baking: 197 min).\n"
   ]
  }
 ],
 "metadata": {
  "kernelspec": {
   "display_name": "Julia 1.3.1",
   "language": "julia",
   "name": "julia-1.3"
  },
  "language_info": {
   "file_extension": ".jl",
   "mimetype": "application/julia",
   "name": "julia",
   "version": "1.3.1"
  }
 },
 "nbformat": 4,
 "nbformat_minor": 4
}
