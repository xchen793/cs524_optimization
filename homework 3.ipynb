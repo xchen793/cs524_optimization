{
 "cells": [
  {
   "cell_type": "markdown",
   "metadata": {},
   "source": [
    "# Problem 1"
   ]
  },
  {
   "cell_type": "markdown",
   "metadata": {},
   "source": [
    "## (a)\n",
    "\n",
    "![](hw3p1.png)"
   ]
  },
  {
   "cell_type": "markdown",
   "metadata": {},
   "source": [
    "## (b)"
   ]
  },
  {
   "cell_type": "code",
   "execution_count": 1,
   "metadata": {},
   "outputs": [
    {
     "name": "stdout",
     "output_type": "stream",
     "text": [
      "Total flow through network: 44.0\n",
      "Flow on each arc: 1-dimensional DenseAxisArray{Float64,1,...} with index sets:\n",
      "    Dimension 1, Tuple{Symbol,Symbol}[(:sr, :A), (:sr, :B), (:sr, :C), (:sr, :D), (:A, :E), (:A, :G), (:A, :H), (:B, :F), (:B, :G), (:C, :E), (:C, :H), (:D, :H), (:E, :si), (:F, :si), (:G, :si), (:H, :si), (:si, :sr)]\n",
      "And data, a 17-element Array{Float64,1}:\n",
      "  7.0\n",
      " 15.0\n",
      "  9.0\n",
      " 13.0\n",
      "  0.0\n",
      "  0.0\n",
      "  7.0\n",
      " 15.0\n",
      "  0.0\n",
      "  9.0\n",
      "  0.0\n",
      " 13.0\n",
      "  9.0\n",
      " 15.0\n",
      "  0.0\n",
      " 20.0\n",
      " 44.0\n",
      "check if demand met: \n",
      "flow to E (should be at least 7): 9.0\n",
      "flow to F (should be at least 6): 15.0\n",
      "flow to G (should be at least 16): 0.0\n",
      "flow to H (should be at least 6): 20.0\n"
     ]
    }
   ],
   "source": [
    "using JuMP, Clp\n",
    "m = Model(Clp.Optimizer)\n",
    "\n",
    "# create list of nodes. create a dummy source node and dummy sink node. \n",
    "nodes = [:sr,:A,:B,:C,:D,:E,:F,:G,:H,:si] \n",
    "\n",
    "# create list of all arcs in the network. \n",
    "arcs = [(:sr,:A), (:sr,:B), (:sr,:C), (:sr,:D), (:A,:E), (:A,:G), (:A,:H), (:B,:F), \n",
    "    (:B,:G), (:C,:E), (:C,:H), (:D,:H), (:E,:si), (:F,:si), (:G,:si), (:H,:si), (:si,:sr)]\n",
    "\n",
    "# dictionary of arc capacities, making dummy cap \"big\" enough\n",
    "capacity = Dict(zip(arcs,[7 15 9 13 7 7 7 15 15 9 9 13 100 100 100 100 100]))\n",
    "\n",
    "\n",
    "#variables represent flow on each arc \n",
    "@variable(m, x[arcs] >= 0)\n",
    "# maximize total flow on arc from sink to source \n",
    "@objective(m, Min, -x[(:si,:sr)])\n",
    "\n",
    "@constraint(m, cap[a in arcs], x[a] <= capacity[a]) # obey capacity restrictions # balance flow on every node \n",
    "@constraint(m, flow[i in nodes], sum(x[a] for a in arcs if a[1] == i) == sum(x[a] for a in arcs if a[2] == i))\n",
    "\n",
    "set_optimizer_attribute(m, \"LogLevel\", 0) \n",
    "#We aren't meeting the demand, so add a constraint and re-solve:\n",
    "optimize!(m)\n",
    "println(\"Total flow through network: \", -objective_value(m))\n",
    "println(\"Flow on each arc: \", value.(x))\n",
    "println(\"check if demand met: \") \n",
    "println(\"flow to E (should be at least 7): \", value(x[(:E,:si)])) \n",
    "println(\"flow to F (should be at least 6): \", value(x[(:F,:si)])) \n",
    "println(\"flow to G (should be at least 16): \", value(x[(:G,:si)]))\n",
    "println(\"flow to H (should be at least 6): \", value(x[(:H,:si)]))"
   ]
  },
  {
   "cell_type": "code",
   "execution_count": 2,
   "metadata": {},
   "outputs": [
    {
     "name": "stdout",
     "output_type": "stream",
     "text": [
      "Total flow through network: 44.0\n",
      "Flow on each arc: 1-dimensional DenseAxisArray{Float64,1,...} with index sets:\n",
      "    Dimension 1, Tuple{Symbol,Symbol}[(:sr, :A), (:sr, :B), (:sr, :C), (:sr, :D), (:A, :E), (:A, :G), (:A, :H), (:B, :F), (:B, :G), (:C, :E), (:C, :H), (:D, :H), (:E, :si), (:F, :si), (:G, :si), (:H, :si), (:si, :sr)]\n",
      "And data, a 17-element Array{Float64,1}:\n",
      "  7.0\n",
      " 15.0\n",
      "  9.0\n",
      " 13.0\n",
      "  6.0\n",
      "  1.0\n",
      "  0.0\n",
      "  0.0\n",
      " 15.0\n",
      "  9.0\n",
      "  0.0\n",
      " 13.0\n",
      " 15.0\n",
      "  0.0\n",
      " 16.0\n",
      " 13.0\n",
      " 44.0\n",
      "check if demand met: \n",
      "flow to E (should be at least 7): 15.0\n",
      "flow to F (should be at least 6): 0.0\n",
      "flow to G (should be at least 16): 16.0\n",
      "flow to H (should be at least 6): 13.0\n"
     ]
    }
   ],
   "source": [
    "@constraint(m, x[(:G,:si)]==16)\n",
    "\n",
    "optimize!(m)\n",
    "println(\"Total flow through network: \", -objective_value(m))\n",
    "println(\"Flow on each arc: \", value.(x))\n",
    "println(\"check if demand met: \") \n",
    "println(\"flow to E (should be at least 7): \", value(x[(:E,:si)])) \n",
    "println(\"flow to F (should be at least 6): \", value(x[(:F,:si)])) \n",
    "println(\"flow to G (should be at least 16): \", value(x[(:G,:si)]))\n",
    "println(\"flow to H (should be at least 6): \", value(x[(:H,:si)]))"
   ]
  },
  {
   "cell_type": "code",
   "execution_count": 3,
   "metadata": {},
   "outputs": [
    {
     "name": "stdout",
     "output_type": "stream",
     "text": [
      "Total flow through network: 44.0\n",
      "Flow on each arc: 1-dimensional DenseAxisArray{Float64,1,...} with index sets:\n",
      "    Dimension 1, Tuple{Symbol,Symbol}[(:sr, :A), (:sr, :B), (:sr, :C), (:sr, :D), (:A, :E), (:A, :G), (:A, :H), (:B, :F), (:B, :G), (:C, :E), (:C, :H), (:D, :H), (:E, :si), (:F, :si), (:G, :si), (:H, :si), (:si, :sr)]\n",
      "And data, a 17-element Array{Float64,1}:\n",
      "  7.0\n",
      " 15.0\n",
      "  9.0\n",
      " 13.0\n",
      "  0.0\n",
      "  7.0\n",
      "  0.0\n",
      "  6.0\n",
      "  9.0\n",
      "  9.0\n",
      "  0.0\n",
      " 13.0\n",
      "  9.0\n",
      "  6.0\n",
      " 16.0\n",
      " 13.0\n",
      " 44.0\n",
      "check if demand met: \n",
      "flow to E (should be at least 7): 9.0\n",
      "flow to F (should be at least 6): 6.0\n",
      "flow to G (should be at least 16): 16.0\n",
      "flow to H (should be at least 6): 13.0\n"
     ]
    }
   ],
   "source": [
    "@constraint(m, x[(:F,:si)]==6)\n",
    "\n",
    "optimize!(m)\n",
    "println(\"Total flow through network: \", -objective_value(m))\n",
    "println(\"Flow on each arc: \", value.(x))\n",
    "println(\"check if demand met: \") \n",
    "println(\"flow to E (should be at least 7): \", value(x[(:E,:si)])) \n",
    "println(\"flow to F (should be at least 6): \", value(x[(:F,:si)])) \n",
    "println(\"flow to G (should be at least 16): \", value(x[(:G,:si)]))\n",
    "println(\"flow to H (should be at least 6): \", value(x[(:H,:si)]))"
   ]
  },
  {
   "cell_type": "markdown",
   "metadata": {},
   "source": [
    "## (c)"
   ]
  },
  {
   "cell_type": "markdown",
   "metadata": {},
   "source": [
    "This model (max flow with two extra constraints) gives a feasible flow that meets demand!\n",
    "\n",
    "Now we need to find a minimum cut. Remember that max flow = min cut, so we need to find a setof arcs that separate the source from the sink such that the sum of the capacities on the arcs = 44.We can use dual varaiable values to recover a minimum cut"
   ]
  },
  {
   "cell_type": "code",
   "execution_count": 4,
   "metadata": {},
   "outputs": [
    {
     "name": "stdout",
     "output_type": "stream",
     "text": [
      "Arcincut:(:sr, :A)(Capacity:7)\n",
      "Arcincut:(:sr, :B)(Capacity:15)\n",
      "Arcincut:(:sr, :C)(Capacity:9)\n",
      "Arcincut:(:sr, :D)(Capacity:13)\n",
      "Total capacity of this minimum cut(should be 44):44\n"
     ]
    }
   ],
   "source": [
    "min_cut=0\n",
    "for a in arcs# if the dual variable is nonzero, the primal capacity constraint is active\n",
    "    if abs(dual(cap[a])) > 10e-5\n",
    "        # print the arc where the associated primal capacity is active\n",
    "        println(\"Arcincut:\", a,\"(Capacity:\", capacity[a],\")\")\n",
    "        min_cut=min_cut+capacity[a]\n",
    "    end\n",
    "end\n",
    "println(\"Total capacity of this minimum cut(should be 44):\", min_cut)"
   ]
  },
  {
   "cell_type": "markdown",
   "metadata": {},
   "source": [
    "44 is the optimal solution according to the Complementary Slackness Theorem because all are active constraints(from the sr to ABCD)."
   ]
  },
  {
   "cell_type": "markdown",
   "metadata": {},
   "source": [
    "# Problem 2"
   ]
  },
  {
   "cell_type": "markdown",
   "metadata": {},
   "source": [
    "## (a)"
   ]
  },
  {
   "cell_type": "markdown",
   "metadata": {},
   "source": [
    "## primal linear program:"
   ]
  },
  {
   "cell_type": "code",
   "execution_count": 5,
   "metadata": {},
   "outputs": [
    {
     "data": {
      "text/latex": [
       "$$ \\begin{alignat*}{1}\\max\\quad & 2 x1 + x2 + 4 x3\\\\\n",
       "\\text{Subject to} \\quad & 2 x1 - x2 + 3 x3 = 3.0\\\\\n",
       " & x1 + 2 x2 + 2 x3 \\leq 3.0\\\\\n",
       " & x1 \\geq 0.0\\\\\n",
       " & x2 \\geq 0.0\\\\\n",
       " & x3 \\geq 0.0\\\\\n",
       "\\end{alignat*}\n",
       " $$"
      ],
      "text/plain": [
       "A JuMP Model\n",
       "Maximization problem with:\n",
       "Variables: 3\n",
       "Objective function type: GenericAffExpr{Float64,VariableRef}\n",
       "`GenericAffExpr{Float64,VariableRef}`-in-`MathOptInterface.EqualTo{Float64}`: 1 constraint\n",
       "`GenericAffExpr{Float64,VariableRef}`-in-`MathOptInterface.LessThan{Float64}`: 1 constraint\n",
       "`VariableRef`-in-`MathOptInterface.GreaterThan{Float64}`: 3 constraints\n",
       "Model mode: AUTOMATIC\n",
       "CachingOptimizer state: ATTACHED_OPTIMIZER\n",
       "Solver name: Clp\n",
       "Names registered in the model: con1, con2, x1, x2, x3"
      ]
     },
     "metadata": {},
     "output_type": "display_data"
    },
    {
     "name": "stdout",
     "output_type": "stream",
     "text": [
      "x1 = 0.0\n",
      "x2 = 0.375\n",
      "x3 = 1.125\n",
      "p_max will be $4.875\n",
      "Coin0506I Presolve 2 (0) rows, 3 (0) columns and 6 (0) elements\n",
      "Clp0006I 0  Obj 0 Primal inf 0.9999999 (1) Dual inf 7.9999997 (3)\n",
      "Clp0006I 3  Obj 4.875\n",
      "Clp0000I Optimal - objective value 4.875\n",
      "Clp0032I Optimal objective 4.875 - 3 iterations time 0.002\n"
     ]
    }
   ],
   "source": [
    "using JuMP, Clp\n",
    "m = Model(Clp.Optimizer)\n",
    "\n",
    "@variable(m, x1 >= 0)                       \n",
    "@variable(m, x2 >= 0)\n",
    "@variable(m, x3 >= 0)\n",
    "\n",
    "@constraint(m, con1,   x1 + 2*x2 + 2*x3 <= 3)  \n",
    "@constraint(m, con2,  2*x1 - x2 + 3*x3 == 3)    \n",
    "\n",
    "@objective(m, Max, 2*x1 + x2 + 4*x3)              # maximize p\n",
    "\n",
    "# solve this instance of the Top Brass problem\n",
    "optimize!(m)\n",
    "\n",
    "# print out the full model and solution\n",
    "display(m)\n",
    "\n",
    "println(\"x1 = \", value(x1))\n",
    "println(\"x2 = \", value(x2))\n",
    "println(\"x3 = \", value(x3))\n",
    "\n",
    "println(\"p_max will be \\$\", objective_value(m))"
   ]
  },
  {
   "cell_type": "markdown",
   "metadata": {},
   "source": [
    "## Dual linear program"
   ]
  },
  {
   "cell_type": "code",
   "execution_count": 6,
   "metadata": {},
   "outputs": [
    {
     "data": {
      "text/latex": [
       "$$ \\begin{alignat*}{1}\\min\\quad & 3 λ_{2} + 3 λ_{1}\\\\\n",
       "\\text{Subject to} \\quad & 2 λ_{1} + λ_{2} \\geq 2.0\\\\\n",
       " & 2 λ_{2} - λ_{1} \\geq 1.0\\\\\n",
       " & 2 λ_{2} + 3 λ_{1} \\geq 4.0\\\\\n",
       " & λ_{1} \\geq 0.0\\\\\n",
       " & λ_{2} \\geq 0.0\\\\\n",
       "\\end{alignat*}\n",
       " $$"
      ],
      "text/plain": [
       "A JuMP Model\n",
       "Minimization problem with:\n",
       "Variables: 2\n",
       "Objective function type: GenericAffExpr{Float64,VariableRef}\n",
       "`GenericAffExpr{Float64,VariableRef}`-in-`MathOptInterface.GreaterThan{Float64}`: 3 constraints\n",
       "`VariableRef`-in-`MathOptInterface.GreaterThan{Float64}`: 2 constraints\n",
       "Model mode: AUTOMATIC\n",
       "CachingOptimizer state: ATTACHED_OPTIMIZER\n",
       "Solver name: Clp\n",
       "Names registered in the model: λ"
      ]
     },
     "metadata": {},
     "output_type": "display_data"
    },
    {
     "name": "stdout",
     "output_type": "stream",
     "text": [
      "dual variables are: [0.75, 0.875]\n",
      "Optimal objective is: 4.875\n",
      "Coin0506I Presolve 3 (0) rows, 2 (0) columns and 6 (0) elements\n",
      "Clp0006I 0  Obj 0 Primal inf 2.833333 (3)\n",
      "Clp0006I 2  Obj 4.875\n",
      "Clp0000I Optimal - objective value 4.875\n",
      "Clp0032I Optimal objective 4.875 - 2 iterations time 0.002\n"
     ]
    }
   ],
   "source": [
    "using JuMP, Clp\n",
    "m = Model(Clp.Optimizer)\n",
    "@variable(m, λ[1:2] >= 0) # variables for each primal constraint\n",
    "\n",
    "# constraints ensuring the correct relationship with each primal variable\n",
    "# to guarantee an upper bound \n",
    "@constraint(m, 2λ[1] + λ[2] >= 2)\n",
    "@constraint(m, 2λ[2] - λ[1] >= 1)\n",
    "@constraint(m, 2λ[2] + 3λ[1] >= 4)\n",
    "\n",
    "# objective is to minimize the upper bound on the primal solution\n",
    "@objective(m, Min, 3*λ[2] + 3*λ[1] )\n",
    "\n",
    "# solve this instance of the Top Brass dual\n",
    "optimize!(m)\n",
    "\n",
    "# print the dual model and solution\n",
    "display(m)\n",
    "\n",
    "println(\"dual variables are: \", value.(λ))\n",
    "println(\"Optimal objective is: \", objective_value(m))\n"
   ]
  },
  {
   "cell_type": "markdown",
   "metadata": {},
   "source": [
    "using the weak duality theorem, it is clear that $p \\leq p* \\leq d* \\leq d$. (where p is the objective function from Primal problem, d is the objective function from Dual problem.)\n",
    "Since $d* = 4.875$, it follows that $p* \\leq 4.875 < 6$."
   ]
  },
  {
   "cell_type": "markdown",
   "metadata": {},
   "source": [
    "## (b)"
   ]
  },
  {
   "cell_type": "markdown",
   "metadata": {},
   "source": [
    "## primal linear program:"
   ]
  },
  {
   "cell_type": "code",
   "execution_count": 7,
   "metadata": {},
   "outputs": [
    {
     "data": {
      "text/latex": [
       "$$ \\begin{alignat*}{1}\\max\\quad & -6 y1 + 2 y2 + 4 x3 + x4\\\\\n",
       "\\text{Subject to} \\quad & -y1 + y2 = 4.0\\\\\n",
       " & 4 y2 + 6 x3 \\leq 36.0\\\\\n",
       " & x3 + x4 \\leq 16.0\\\\\n",
       " & y1 \\geq 0.0\\\\\n",
       " & x3 \\geq 0.0\\\\\n",
       " & x4 \\geq 0.0\\\\\n",
       "\\end{alignat*}\n",
       " $$"
      ],
      "text/plain": [
       "A JuMP Model\n",
       "Maximization problem with:\n",
       "Variables: 4\n",
       "Objective function type: GenericAffExpr{Float64,VariableRef}\n",
       "`GenericAffExpr{Float64,VariableRef}`-in-`MathOptInterface.EqualTo{Float64}`: 1 constraint\n",
       "`GenericAffExpr{Float64,VariableRef}`-in-`MathOptInterface.LessThan{Float64}`: 2 constraints\n",
       "`VariableRef`-in-`MathOptInterface.GreaterThan{Float64}`: 3 constraints\n",
       "Model mode: AUTOMATIC\n",
       "CachingOptimizer state: ATTACHED_OPTIMIZER\n",
       "Solver name: COIN Branch-and-Cut (Cbc)\n",
       "Names registered in the model: con1, con2, con3, x3, x4, y1, y2"
      ]
     },
     "metadata": {},
     "output_type": "display_data"
    },
    {
     "name": "stdout",
     "output_type": "stream",
     "text": [
      "x1 = 0.0\n",
      "x2 = -4.0\n",
      "x3 = 3.3333333333333335\n",
      "x4 = 12.666666666666666\n",
      "p_max will be $34.0\n",
      "Welcome to the CBC MILP Solver \n",
      "Version: 2.10.3 \n",
      "Build Date: May 23 2020 \n",
      "\n",
      "command line - Cbc_C_Interface -solve -quit (default strategy 1)\n",
      "Presolve 0 (-3) rows, 0 (-4) columns and 0 (-6) elements\n",
      "Empty problem - 0 rows, 0 columns and 0 elements\n",
      "Optimal - objective value 34\n",
      "After Postsolve, objective 34, infeasibilities - dual 0 (0), primal 0 (0)\n",
      "Optimal objective 34 - 0 iterations time 0.002, Presolve 0.00\n",
      "Total time (CPU seconds):       0.00   (Wallclock seconds):       0.00\n",
      "\n"
     ]
    }
   ],
   "source": [
    "using JuMP, Cbc\n",
    "m = Model(Cbc.Optimizer)\n",
    "\n",
    "@variable(m, y1 >= 0)     #y1 = -x1 \n",
    "@variable(m, y2)     \n",
    "@variable(m, x3 >= 0)\n",
    "@variable(m, x4 >= 0)\n",
    "\n",
    "\n",
    "@constraint(m, con1,   4*y2 + 6*x3 <= 36)  \n",
    "@constraint(m, con2,   x3 + x4 <= 16 ) \n",
    "@constraint(m, con3,   -y1 + y2 == 4)  \n",
    "\n",
    "\n",
    "@objective(m, Max, -6*y1 + 2*(y2) + 4*x3 + x4)              # maximize p\n",
    "\n",
    "# solve this instance of the Top Brass problem\n",
    "optimize!(m)\n",
    "\n",
    "# print out the full model and solution\n",
    "display(m)\n",
    "\n",
    "println(\"x1 = \", value(-y1))\n",
    "println(\"x2 = \", value(-y2))\n",
    "println(\"x3 = \", value(x3))\n",
    "println(\"x4 = \", value(x4))\n",
    "\n",
    "println(\"p_max will be \\$\", objective_value(m))"
   ]
  },
  {
   "cell_type": "markdown",
   "metadata": {},
   "source": [
    "## Dual linear program:"
   ]
  },
  {
   "cell_type": "code",
   "execution_count": 8,
   "metadata": {},
   "outputs": [
    {
     "data": {
      "text/latex": [
       "$$ \\begin{alignat*}{1}\\min\\quad & 4 λ_{3} + 36 λ_{1} + 16 λ_{2}\\\\\n",
       "\\text{Subject to} \\quad & -λ_{3} \\geq -6.0\\\\\n",
       " & λ_{3} + 4 λ_{1} \\geq 2.0\\\\\n",
       " & 6 λ_{1} + λ_{2} \\geq 4.0\\\\\n",
       " & λ_{2} \\geq 1.0\\\\\n",
       " & λ_{1} \\geq 0.0\\\\\n",
       " & λ_{2} \\geq 0.0\\\\\n",
       " & λ_{3} \\geq 0.0\\\\\n",
       "\\end{alignat*}\n",
       " $$"
      ],
      "text/plain": [
       "A JuMP Model\n",
       "Minimization problem with:\n",
       "Variables: 3\n",
       "Objective function type: GenericAffExpr{Float64,VariableRef}\n",
       "`GenericAffExpr{Float64,VariableRef}`-in-`MathOptInterface.GreaterThan{Float64}`: 4 constraints\n",
       "`VariableRef`-in-`MathOptInterface.GreaterThan{Float64}`: 3 constraints\n",
       "Model mode: AUTOMATIC\n",
       "CachingOptimizer state: ATTACHED_OPTIMIZER\n",
       "Solver name: Clp\n",
       "Names registered in the model: λ"
      ]
     },
     "metadata": {},
     "output_type": "display_data"
    },
    {
     "name": "stdout",
     "output_type": "stream",
     "text": [
      "dual variables are: [0.5, 1.0, 0.0]\n",
      "Optimal objective is: 42.0\n",
      "Coin0506I Presolve 2 (-2) rows, 3 (0) columns and 4 (-2) elements\n",
      "Clp0006I 0  Obj 16 Primal inf 0.999998 (2)\n",
      "Clp0006I 1  Obj 34\n",
      "Clp0000I Optimal - objective value 34\n",
      "Coin0511I After Postsolve, objective 34, infeasibilities - dual 0 (0), primal 0 (0)\n",
      "Clp0032I Optimal objective 34 - 1 iterations time 0.002, Presolve 0.00\n"
     ]
    }
   ],
   "source": [
    "using JuMP, Clp\n",
    "m = Model(Clp.Optimizer)\n",
    "@variable(m, λ[1:3] >= 0) # variables for each primal constraint\n",
    "\n",
    "# constraints ensuring the correct relationship with each primal variable\n",
    "# to guarantee an upper bound \n",
    "@constraint(m, -λ[3] >= -6)\n",
    "@constraint(m, λ[3] + 4*λ[1] >= 2)\n",
    "@constraint(m, 6λ[1] + λ[2] >= 4)\n",
    "@constraint(m, λ[2] >= 1)\n",
    "\n",
    "# objective is to minimize the upper bound on the primal solution\n",
    "@objective(m, Min, 4*λ[3] + 36*λ[1] + 16*λ[2])\n",
    "\n",
    "# solve this instance of the Top Brass dual\n",
    "optimize!(m)\n",
    "\n",
    "# print the dual model and solution\n",
    "display(m)\n",
    "\n",
    "println(\"dual variables are: \", value.(λ))\n",
    "println(\"Optimal objective is: \", objective_value(m) + 8)\n"
   ]
  },
  {
   "cell_type": "markdown",
   "metadata": {},
   "source": [
    "pf: The solution $x = (\\ 0, −4,\\frac{10}{3}, \\frac{38}{3})\\ $ is feasible solution. The primal constraints x1, x2, x3, x4 do not have slacks. So it is optimal solution to primal problem."
   ]
  },
  {
   "cell_type": "markdown",
   "metadata": {},
   "source": [
    "$ \\lambda = (\\ 0, \\frac{1}{2}, -1)\\ $ "
   ]
  },
  {
   "cell_type": "markdown",
   "metadata": {},
   "source": [
    "# Problem 3"
   ]
  },
  {
   "cell_type": "markdown",
   "metadata": {},
   "source": [
    "## (a)"
   ]
  },
  {
   "cell_type": "markdown",
   "metadata": {},
   "source": [
    "### primal solutions"
   ]
  },
  {
   "cell_type": "code",
   "execution_count": 9,
   "metadata": {},
   "outputs": [
    {
     "data": {
      "text/latex": [
       "$$ \\begin{alignat*}{1}\\max\\quad & 60 x1 + 120 x2 + 200 x3 + 300 x4\\\\\n",
       "\\text{Subject to} \\quad & 2 x1 + 3 x2 + 3 x3 + 5 x4 \\leq 12000.0\\\\\n",
       " & 5 x1 + 5 x2 + 10 x3 + 15 x4 \\leq 32000.0\\\\\n",
       " & 0.25 x1 + x2 + 2 x3 + 3.5 x4 \\leq 5000.0\\\\\n",
       " & x1 \\geq 0.0\\\\\n",
       " & x2 \\geq 0.0\\\\\n",
       " & x3 \\geq 0.0\\\\\n",
       " & x4 \\geq 0.0\\\\\n",
       " & x1 integer\\\\\n",
       " & x2 integer\\\\\n",
       " & x3 integer\\\\\n",
       " & x4 integer\\\\\n",
       "\\end{alignat*}\n",
       " $$"
      ],
      "text/plain": [
       "A JuMP Model\n",
       "Maximization problem with:\n",
       "Variables: 4\n",
       "Objective function type: GenericAffExpr{Float64,VariableRef}\n",
       "`GenericAffExpr{Float64,VariableRef}`-in-`MathOptInterface.LessThan{Float64}`: 3 constraints\n",
       "`VariableRef`-in-`MathOptInterface.GreaterThan{Float64}`: 4 constraints\n",
       "`VariableRef`-in-`MathOptInterface.Integer`: 4 constraints\n",
       "Model mode: AUTOMATIC\n",
       "CachingOptimizer state: ATTACHED_OPTIMIZER\n",
       "Solver name: COIN Branch-and-Cut (Cbc)\n",
       "Names registered in the model: con1, con2, con3, x1, x2, x3, x4"
      ]
     },
     "metadata": {},
     "output_type": "display_data"
    },
    {
     "name": "stdout",
     "output_type": "stream",
     "text": [
      "x1 = 1866.9999999999998\n",
      "x2 = 977.0\n",
      "x3 = 1778.0\n",
      "x4 = 0.0\n",
      "max profit will be $584860.0\n",
      "Welcome to the CBC MILP Solver \n",
      "Version: 2.10.3 \n",
      "Build Date: May 23 2020 \n",
      "\n",
      "command line - Cbc_C_Interface -solve -quit (default strategy 1)\n",
      "Continuous objective value is 584889 - 0.00 seconds\n",
      "Cgl0004I processed model has 3 rows, 4 columns (4 integer (0 of which binary)) and 12 elements\n",
      "Cbc0012I Integer solution of -584600 found by DiveCoefficient after 0 iterations and 0 nodes (0.00 seconds)\n",
      "Cbc0038I Full problem 3 rows 4 columns, reduced to 3 rows 3 columns\n",
      "Cbc0012I Integer solution of -584800 found by DiveCoefficient after 13 iterations and 0 nodes (0.01 seconds)\n",
      "Cbc0031I 3 added rows had average density of 4\n",
      "Cbc0013I At root node, 3 cuts changed objective from -584888.89 to -584860 in 8 passes\n",
      "Cbc0014I Cut generator 0 (Probing) - 0 row cuts average 0.0 elements, 0 column cuts (0 active)  in 0.000 seconds - new frequency is -100\n",
      "Cbc0014I Cut generator 1 (Gomory) - 16 row cuts average 4.0 elements, 0 column cuts (0 active)  in 0.001 seconds - new frequency is 1\n",
      "Cbc0014I Cut generator 2 (Knapsack) - 0 row cuts average 0.0 elements, 0 column cuts (0 active)  in 0.000 seconds - new frequency is -100\n",
      "Cbc0014I Cut generator 3 (Clique) - 0 row cuts average 0.0 elements, 0 column cuts (0 active)  in 0.000 seconds - new frequency is -100\n",
      "Cbc0014I Cut generator 4 (MixedIntegerRounding2) - 0 row cuts average 0.0 elements, 0 column cuts (0 active)  in 0.000 seconds - new frequency is -100\n",
      "Cbc0014I Cut generator 5 (FlowCover) - 0 row cuts average 0.0 elements, 0 column cuts (0 active)  in 0.000 seconds - new frequency is -100\n",
      "Cbc0016I Integer solution of -584860 found by strong branching after 13 iterations and 0 nodes (0.01 seconds)\n",
      "Cbc0001I Search completed - best objective -584860, took 13 iterations and 0 nodes (0.01 seconds)\n",
      "Cbc0032I Strong branching done 4 times (5 iterations), fathomed 1 nodes and fixed 0 variables\n",
      "Cbc0035I Maximum depth 0, 0 variables fixed on reduced cost\n",
      "Cuts at root node changed objective from -584889 to -584860\n",
      "Probing was tried 8 times and created 0 cuts of which 0 were active after adding rounds of cuts (0.000 seconds)\n",
      "Gomory was tried 8 times and created 16 cuts of which 0 were active after adding rounds of cuts (0.001 seconds)\n",
      "Knapsack was tried 8 times and created 0 cuts of which 0 were active after adding rounds of cuts (0.000 seconds)\n",
      "Clique was tried 8 times and created 0 cuts of which 0 were active after adding rounds of cuts (0.000 seconds)\n",
      "MixedIntegerRounding2 was tried 8 times and created 0 cuts of which 0 were active after adding rounds of cuts (0.000 seconds)\n",
      "FlowCover was tried 8 times and created 0 cuts of which 0 were active after adding rounds of cuts (0.000 seconds)\n",
      "TwoMirCuts was tried 1 times and created 0 cuts of which 0 were active after adding rounds of cuts (0.000 seconds)\n",
      "ZeroHalf was tried 1 times and created 0 cuts of which 0 were active after adding rounds of cuts (0.000 seconds)\n",
      "\n",
      "Result - Optimal solution found\n",
      "\n",
      "Objective value:                584860.00000000\n",
      "Enumerated nodes:               0\n",
      "Total iterations:               13\n",
      "Time (CPU seconds):             0.01\n",
      "Time (Wallclock seconds):       0.01\n",
      "\n",
      "Total time (CPU seconds):       0.01   (Wallclock seconds):       0.01\n",
      "\n"
     ]
    }
   ],
   "source": [
    "using JuMP, Cbc\n",
    "m = Model(Cbc.Optimizer)\n",
    "\n",
    "@variable(m, x1 >= 0, Int)                   \n",
    "@variable(m, x2 >= 0, Int)\n",
    "@variable(m, x3 >= 0, Int)\n",
    "@variable(m, x4 >= 0, Int)\n",
    "\n",
    "\n",
    "@constraint(m, con1,   2*x1+ 3*x2+ 3*x3+ 5*x4 <= 12000)  \n",
    "@constraint(m, con2,  5*x1+ 5*x2+ 10*x3+ 15*x4 <= 32000) \n",
    "@constraint(m, con3,   0.25*x1+ x2+ 2*x3+ 3.5*x4 <= 5000 ) \n",
    "\n",
    "\n",
    "@objective(m, Max, 60*x1+ 120*x2+ 200*x3+ 300*x4)              # maximize profit\n",
    "\n",
    "# solve this instance of the Top Brass problem\n",
    "optimize!(m)\n",
    "\n",
    "# print out the full model and solution\n",
    "display(m)\n",
    "\n",
    "println(\"x1 = \", value(x1))\n",
    "println(\"x2 = \", value(x2))\n",
    "println(\"x3 = \", value(x3))\n",
    "println(\"x4 = \", value(x4))\n",
    "\n",
    "println(\"max profit will be \\$\", objective_value(m))"
   ]
  },
  {
   "cell_type": "markdown",
   "metadata": {},
   "source": [
    "### dual solutions"
   ]
  },
  {
   "cell_type": "code",
   "execution_count": 10,
   "metadata": {},
   "outputs": [
    {
     "data": {
      "text/latex": [
       "$$ \\begin{alignat*}{1}\\min\\quad & 12000 λ_{1} + 32000 λ_{2} + 5000 λ_{3}\\\\\n",
       "\\text{Subject to} \\quad & 2 λ_{1} + 5 λ_{2} + 0.25 λ_{3} \\geq 60.0\\\\\n",
       " & 3 λ_{1} + 5 λ_{2} + λ_{3} \\geq 120.0\\\\\n",
       " & 3 λ_{1} + 10 λ_{2} + 2 λ_{3} \\geq 200.0\\\\\n",
       " & 5 λ_{1} + 15 λ_{2} + 3.5 λ_{3} \\geq 300.0\\\\\n",
       " & λ_{1} \\geq 0.0\\\\\n",
       " & λ_{2} \\geq 0.0\\\\\n",
       " & λ_{3} \\geq 0.0\\\\\n",
       " & λ_{1} integer\\\\\n",
       " & λ_{2} integer\\\\\n",
       " & λ_{3} integer\\\\\n",
       "\\end{alignat*}\n",
       " $$"
      ],
      "text/plain": [
       "A JuMP Model\n",
       "Minimization problem with:\n",
       "Variables: 3\n",
       "Objective function type: GenericAffExpr{Float64,VariableRef}\n",
       "`GenericAffExpr{Float64,VariableRef}`-in-`MathOptInterface.GreaterThan{Float64}`: 4 constraints\n",
       "`VariableRef`-in-`MathOptInterface.GreaterThan{Float64}`: 3 constraints\n",
       "`VariableRef`-in-`MathOptInterface.Integer`: 3 constraints\n",
       "Model mode: AUTOMATIC\n",
       "CachingOptimizer state: ATTACHED_OPTIMIZER\n",
       "Solver name: COIN Branch-and-Cut (Cbc)\n",
       "Names registered in the model: λ"
      ]
     },
     "metadata": {},
     "output_type": "display_data"
    },
    {
     "name": "stdout",
     "output_type": "stream",
     "text": [
      "dual variables are: [13.0, 4.0, 61.0]\n",
      "Optimal objective is: 589000.0\n",
      "Welcome to the CBC MILP Solver \n",
      "Version: 2.10.3 \n",
      "Build Date: May 23 2020 \n",
      "\n",
      "command line - Cbc_C_Interface -solve -quit (default strategy 1)\n",
      "Continuous objective value is 584889 - 0.00 seconds\n",
      "Cgl0003I 0 fixed, 3 tightened bounds, 0 strengthened rows, 0 substitutions\n",
      "Cgl0004I processed model has 4 rows, 3 columns (3 integer (0 of which binary)) and 12 elements\n",
      "Cbc0012I Integer solution of 611000 found by DiveCoefficient after 0 iterations and 0 nodes (0.00 seconds)\n",
      "Cbc0012I Integer solution of 594000 found by DiveCoefficient after 171 iterations and 0 nodes (0.06 seconds)\n",
      "Cbc0031I 3 added rows had average density of 3\n",
      "Cbc0013I At root node, 3 cuts changed objective from 584888.89 to 588809.43 in 100 passes\n",
      "Cbc0014I Cut generator 0 (Probing) - 0 row cuts average 0.0 elements, 1 column cuts (1 active)  in 0.003 seconds - new frequency is -100\n",
      "Cbc0014I Cut generator 1 (Gomory) - 145 row cuts average 3.0 elements, 0 column cuts (0 active)  in 0.006 seconds - new frequency is 1\n",
      "Cbc0014I Cut generator 2 (Knapsack) - 0 row cuts average 0.0 elements, 0 column cuts (0 active)  in 0.002 seconds - new frequency is -100\n",
      "Cbc0014I Cut generator 3 (Clique) - 0 row cuts average 0.0 elements, 0 column cuts (0 active)  in 0.000 seconds - new frequency is -100\n",
      "Cbc0014I Cut generator 4 (MixedIntegerRounding2) - 1 row cuts average 3.0 elements, 0 column cuts (0 active)  in 0.003 seconds - new frequency is -100\n",
      "Cbc0014I Cut generator 5 (FlowCover) - 0 row cuts average 0.0 elements, 0 column cuts (0 active)  in 0.004 seconds - new frequency is -100\n",
      "Cbc0010I After 0 nodes, 1 on tree, 594000 best solution, best possible 588809.43 (0.06 seconds)\n",
      "Cbc0016I Integer solution of 593000 found by strong branching after 189 iterations and 1 nodes (0.06 seconds)\n",
      "Cbc0012I Integer solution of 591000 found by DiveCoefficient after 196 iterations and 3 nodes (0.06 seconds)\n",
      "Cbc0016I Integer solution of 589000 found by strong branching after 200 iterations and 4 nodes (0.07 seconds)\n",
      "Cbc0001I Search completed - best objective 589000, took 200 iterations and 4 nodes (0.07 seconds)\n",
      "Cbc0032I Strong branching done 14 times (23 iterations), fathomed 1 nodes and fixed 1 variables\n",
      "Cbc0035I Maximum depth 1, 0 variables fixed on reduced cost\n",
      "Cuts at root node changed objective from 584889 to 588809\n",
      "Probing was tried 100 times and created 1 cuts of which 0 were active after adding rounds of cuts (0.003 seconds)\n",
      "Gomory was tried 115 times and created 164 cuts of which 0 were active after adding rounds of cuts (0.007 seconds)\n",
      "Knapsack was tried 100 times and created 0 cuts of which 0 were active after adding rounds of cuts (0.002 seconds)\n",
      "Clique was tried 100 times and created 0 cuts of which 0 were active after adding rounds of cuts (0.000 seconds)\n",
      "MixedIntegerRounding2 was tried 100 times and created 1 cuts of which 0 were active after adding rounds of cuts (0.003 seconds)\n",
      "FlowCover was tried 100 times and created 0 cuts of which 0 were active after adding rounds of cuts (0.004 seconds)\n",
      "TwoMirCuts was tried 1 times and created 0 cuts of which 0 were active after adding rounds of cuts (0.000 seconds)\n",
      "ZeroHalf was tried 1 times and created 0 cuts of which 0 were active after adding rounds of cuts (0.018 seconds)\n",
      "\n",
      "Result - Optimal solution found\n",
      "\n",
      "Objective value:                589000.00000000\n",
      "Enumerated nodes:               4\n",
      "Total iterations:               200\n",
      "Time (CPU seconds):             0.07\n",
      "Time (Wallclock seconds):       0.07\n",
      "\n",
      "Total time (CPU seconds):       0.07   (Wallclock seconds):       0.07\n",
      "\n"
     ]
    }
   ],
   "source": [
    "using JuMP, Cbc\n",
    "m = Model(Cbc.Optimizer)\n",
    "@variable(m, λ[1:3] >= 0, Int) # variables for each primal constraint\n",
    "\n",
    "# constraints ensuring the correct relationship with each primal variable\n",
    "# to guarantee an upper bound \n",
    "@constraint(m, 2λ[1] + 5λ[2] + 0.25λ[3] >= 60)\n",
    "@constraint(m, 3λ[1] + 5λ[2] + λ[3] >= 120)\n",
    "@constraint(m, 3λ[1] + 10λ[2] + 2λ[3] >= 200)\n",
    "@constraint(m, 5λ[1] + 15λ[2] + 3.5λ[3] >= 300)\n",
    "\n",
    "# objective is to minimize the upper bound on the primal solution\n",
    "@objective(m, Min, 12000λ[1] + 32000λ[2] + 5000λ[3] )\n",
    "\n",
    "# solve this instance of the Top Brass dual\n",
    "optimize!(m)\n",
    "\n",
    "# print the dual model and solution\n",
    "display(m)\n",
    "\n",
    "println(\"dual variables are: \", value.(λ))\n",
    "println(\"Optimal objective is: \", objective_value(m))"
   ]
  },
  {
   "cell_type": "markdown",
   "metadata": {},
   "source": [
    "## (b)"
   ]
  },
  {
   "cell_type": "code",
   "execution_count": 11,
   "metadata": {},
   "outputs": [
    {
     "data": {
      "text/latex": [
       "$$ \\begin{alignat*}{1}\\max\\quad & 60 x1 + 120 x2 + 200 x3 + 300 x4\\\\\n",
       "\\text{Subject to} \\quad & 2 x1 + 3 x2 + 3 x3 + 5 x4 \\leq 12001.0\\\\\n",
       " & 5 x1 + 5 x2 + 10 x3 + 15 x4 \\leq 32000.0\\\\\n",
       " & 0.25 x1 + x2 + 2 x3 + 3.5 x4 \\leq 5000.0\\\\\n",
       " & x1 \\geq 0.0\\\\\n",
       " & x2 \\geq 0.0\\\\\n",
       " & x3 \\geq 0.0\\\\\n",
       " & x4 \\geq 0.0\\\\\n",
       " & x1 integer\\\\\n",
       " & x2 integer\\\\\n",
       " & x3 integer\\\\\n",
       " & x4 integer\\\\\n",
       "\\end{alignat*}\n",
       " $$"
      ],
      "text/plain": [
       "A JuMP Model\n",
       "Maximization problem with:\n",
       "Variables: 4\n",
       "Objective function type: GenericAffExpr{Float64,VariableRef}\n",
       "`GenericAffExpr{Float64,VariableRef}`-in-`MathOptInterface.LessThan{Float64}`: 3 constraints\n",
       "`VariableRef`-in-`MathOptInterface.GreaterThan{Float64}`: 4 constraints\n",
       "`VariableRef`-in-`MathOptInterface.Integer`: 4 constraints\n",
       "Model mode: AUTOMATIC\n",
       "CachingOptimizer state: ATTACHED_OPTIMIZER\n",
       "Solver name: COIN Branch-and-Cut (Cbc)\n",
       "Names registered in the model: con1, con2, con3, x1, x2, x3, x4"
      ]
     },
     "metadata": {},
     "output_type": "display_data"
    },
    {
     "name": "stdout",
     "output_type": "stream",
     "text": [
      "x1 = 1866.9999999999998\n",
      "x2 = 977.0\n",
      "x3 = 1778.0\n",
      "x4 = 0.0\n",
      "max profit will be $584860.0\n",
      "Welcome to the CBC MILP Solver \n",
      "Version: 2.10.3 \n",
      "Build Date: May 23 2020 \n",
      "\n",
      "command line - Cbc_C_Interface -solve -quit (default strategy 1)\n",
      "Continuous objective value is 584902 - 0.00 seconds\n",
      "Cgl0004I processed model has 3 rows, 4 columns (4 integer (0 of which binary)) and 12 elements\n",
      "Cbc0012I Integer solution of -584720 found by DiveCoefficient after 0 iterations and 0 nodes (0.00 seconds)\n",
      "Cbc0038I Full problem 3 rows 4 columns, reduced to 3 rows 3 columns\n",
      "Cbc0012I Integer solution of -584780 found by DiveCoefficient after 92 iterations and 0 nodes (0.05 seconds)\n",
      "Cbc0031I 3 added rows had average density of 4\n",
      "Cbc0013I At root node, 3 cuts changed objective from -584902.22 to -584864.19 in 52 passes\n",
      "Cbc0014I Cut generator 0 (Probing) - 0 row cuts average 0.0 elements, 0 column cuts (0 active)  in 0.002 seconds - new frequency is -100\n",
      "Cbc0014I Cut generator 1 (Gomory) - 87 row cuts average 4.0 elements, 0 column cuts (0 active)  in 0.004 seconds - new frequency is 1\n",
      "Cbc0014I Cut generator 2 (Knapsack) - 0 row cuts average 0.0 elements, 0 column cuts (0 active)  in 0.001 seconds - new frequency is -100\n",
      "Cbc0014I Cut generator 3 (Clique) - 0 row cuts average 0.0 elements, 0 column cuts (0 active)  in 0.000 seconds - new frequency is -100\n",
      "Cbc0014I Cut generator 4 (MixedIntegerRounding2) - 0 row cuts average 0.0 elements, 0 column cuts (0 active)  in 0.002 seconds - new frequency is -100\n",
      "Cbc0014I Cut generator 5 (FlowCover) - 0 row cuts average 0.0 elements, 0 column cuts (0 active)  in 0.002 seconds - new frequency is -100\n",
      "Cbc0010I After 0 nodes, 1 on tree, -584780 best solution, best possible -584864.19 (0.05 seconds)\n",
      "Cbc0012I Integer solution of -584800 found by DiveCoefficient after 98 iterations and 2 nodes (0.05 seconds)\n",
      "Cbc0016I Integer solution of -584860 found by strong branching after 104 iterations and 2 nodes (0.05 seconds)\n",
      "Cbc0001I Search completed - best objective -584860, took 104 iterations and 2 nodes (0.05 seconds)\n",
      "Cbc0032I Strong branching done 14 times (20 iterations), fathomed 1 nodes and fixed 0 variables\n",
      "Cbc0035I Maximum depth 1, 1 variables fixed on reduced cost\n",
      "Cuts at root node changed objective from -584902 to -584864\n",
      "Probing was tried 52 times and created 0 cuts of which 0 were active after adding rounds of cuts (0.002 seconds)\n",
      "Gomory was tried 58 times and created 95 cuts of which 0 were active after adding rounds of cuts (0.004 seconds)\n",
      "Knapsack was tried 52 times and created 0 cuts of which 0 were active after adding rounds of cuts (0.001 seconds)\n",
      "Clique was tried 52 times and created 0 cuts of which 0 were active after adding rounds of cuts (0.000 seconds)\n",
      "MixedIntegerRounding2 was tried 52 times and created 0 cuts of which 0 were active after adding rounds of cuts (0.002 seconds)\n",
      "FlowCover was tried 52 times and created 0 cuts of which 0 were active after adding rounds of cuts (0.002 seconds)\n",
      "TwoMirCuts was tried 1 times and created 0 cuts of which 0 were active after adding rounds of cuts (0.000 seconds)\n",
      "ZeroHalf was tried 1 times and created 0 cuts of which 0 were active after adding rounds of cuts (0.019 seconds)\n",
      "\n",
      "Result - Optimal solution found\n",
      "\n",
      "Objective value:                584860.00000000\n",
      "Enumerated nodes:               2\n",
      "Total iterations:               104\n",
      "Time (CPU seconds):             0.05\n",
      "Time (Wallclock seconds):       0.03\n",
      "\n",
      "Total time (CPU seconds):       0.05   (Wallclock seconds):       0.03\n",
      "\n"
     ]
    }
   ],
   "source": [
    "using JuMP, Cbc\n",
    "m = Model(Cbc.Optimizer)\n",
    "\n",
    "@variable(m, x1 >= 0, Int)                   \n",
    "@variable(m, x2 >= 0, Int)\n",
    "@variable(m, x3 >= 0, Int)\n",
    "@variable(m, x4 >= 0, Int)\n",
    "\n",
    "\n",
    "@constraint(m, con1,   2*x1+ 3*x2+ 3*x3+ 5*x4 <= 12001)  \n",
    "@constraint(m, con2,  5*x1+ 5*x2+ 10*x3+ 15*x4 <= 32000) \n",
    "@constraint(m, con3,   0.25*x1+ x2+ 2*x3+ 3.5*x4 <= 5000 ) \n",
    "\n",
    "\n",
    "@objective(m, Max, 60*x1+ 120*x2+ 200*x3+ 300*x4)              # maximize profit\n",
    "\n",
    "# solve this instance of the Top Brass problem\n",
    "optimize!(m)\n",
    "\n",
    "# print out the full model and solution\n",
    "display(m)\n",
    "\n",
    "println(\"x1 = \", value(x1))\n",
    "println(\"x2 = \", value(x2))\n",
    "println(\"x3 = \", value(x3))\n",
    "println(\"x4 = \", value(x4))\n",
    "\n",
    "println(\"max profit will be \\$\", objective_value(m))"
   ]
  },
  {
   "cell_type": "code",
   "execution_count": 12,
   "metadata": {},
   "outputs": [
    {
     "data": {
      "text/latex": [
       "$$ \\begin{alignat*}{1}\\min\\quad & 12001 λ_{1} + 32000 λ_{2} + 5000 λ_{3}\\\\\n",
       "\\text{Subject to} \\quad & 2 λ_{1} + 5 λ_{2} + 0.25 λ_{3} \\geq 60.0\\\\\n",
       " & 3 λ_{1} + 5 λ_{2} + λ_{3} \\geq 120.0\\\\\n",
       " & 3 λ_{1} + 10 λ_{2} + 2 λ_{3} \\geq 200.0\\\\\n",
       " & 5 λ_{1} + 15 λ_{2} + 3.5 λ_{3} \\geq 300.0\\\\\n",
       " & λ_{1} \\geq 0.0\\\\\n",
       " & λ_{2} \\geq 0.0\\\\\n",
       " & λ_{3} \\geq 0.0\\\\\n",
       " & λ_{1} integer\\\\\n",
       " & λ_{2} integer\\\\\n",
       " & λ_{3} integer\\\\\n",
       "\\end{alignat*}\n",
       " $$"
      ],
      "text/plain": [
       "A JuMP Model\n",
       "Minimization problem with:\n",
       "Variables: 3\n",
       "Objective function type: GenericAffExpr{Float64,VariableRef}\n",
       "`GenericAffExpr{Float64,VariableRef}`-in-`MathOptInterface.GreaterThan{Float64}`: 4 constraints\n",
       "`VariableRef`-in-`MathOptInterface.GreaterThan{Float64}`: 3 constraints\n",
       "`VariableRef`-in-`MathOptInterface.Integer`: 3 constraints\n",
       "Model mode: AUTOMATIC\n",
       "CachingOptimizer state: ATTACHED_OPTIMIZER\n",
       "Solver name: COIN Branch-and-Cut (Cbc)\n",
       "Names registered in the model: λ"
      ]
     },
     "metadata": {},
     "output_type": "display_data"
    },
    {
     "name": "stdout",
     "output_type": "stream",
     "text": [
      "dual variables are: [13.0, 4.0, 61.0]\n",
      "Optimal objective is: 589013.0\n",
      "Welcome to the CBC MILP Solver \n",
      "Version: 2.10.3 \n",
      "Build Date: May 23 2020 \n",
      "\n",
      "command line - Cbc_C_Interface -solve -quit (default strategy 1)\n",
      "Continuous objective value is 584902 - 0.00 seconds\n",
      "Cgl0003I 0 fixed, 3 tightened bounds, 0 strengthened rows, 0 substitutions\n",
      "Cgl0004I processed model has 4 rows, 3 columns (3 integer (0 of which binary)) and 12 elements\n",
      "Cbc0012I Integer solution of 611014 found by DiveCoefficient after 0 iterations and 0 nodes (0.00 seconds)\n",
      "Cbc0012I Integer solution of 591015 found by DiveCoefficient after 57 iterations and 0 nodes (0.04 seconds)\n",
      "Cbc0031I 2 added rows had average density of 3\n",
      "Cbc0013I At root node, 2 cuts changed objective from 584902.22 to 587751.65 in 38 passes\n",
      "Cbc0014I Cut generator 0 (Probing) - 0 row cuts average 0.0 elements, 1 column cuts (1 active)  in 0.001 seconds - new frequency is 1\n",
      "Cbc0014I Cut generator 1 (Gomory) - 49 row cuts average 3.0 elements, 0 column cuts (0 active)  in 0.002 seconds - new frequency is 1\n",
      "Cbc0014I Cut generator 2 (Knapsack) - 0 row cuts average 0.0 elements, 0 column cuts (0 active)  in 0.001 seconds - new frequency is -100\n",
      "Cbc0014I Cut generator 3 (Clique) - 0 row cuts average 0.0 elements, 0 column cuts (0 active)  in 0.000 seconds - new frequency is -100\n",
      "Cbc0014I Cut generator 4 (MixedIntegerRounding2) - 1 row cuts average 3.0 elements, 0 column cuts (0 active)  in 0.001 seconds - new frequency is -100\n",
      "Cbc0014I Cut generator 5 (FlowCover) - 0 row cuts average 0.0 elements, 0 column cuts (0 active)  in 0.002 seconds - new frequency is -100\n",
      "Cbc0010I After 0 nodes, 1 on tree, 591015 best solution, best possible 587751.65 (0.04 seconds)\n",
      "Cbc0004I Integer solution of 589013 found after 70 iterations and 1 nodes (0.04 seconds)\n",
      "Cbc0001I Search completed - best objective 589013, took 72 iterations and 2 nodes (0.04 seconds)\n",
      "Cbc0032I Strong branching done 6 times (7 iterations), fathomed 0 nodes and fixed 0 variables\n",
      "Cbc0035I Maximum depth 0, 0 variables fixed on reduced cost\n",
      "Cuts at root node changed objective from 584902 to 587752\n",
      "Probing was tried 45 times and created 2 cuts of which 0 were active after adding rounds of cuts (0.002 seconds)\n",
      "Gomory was tried 45 times and created 62 cuts of which 0 were active after adding rounds of cuts (0.003 seconds)\n",
      "Knapsack was tried 38 times and created 0 cuts of which 0 were active after adding rounds of cuts (0.001 seconds)\n",
      "Clique was tried 38 times and created 0 cuts of which 0 were active after adding rounds of cuts (0.000 seconds)\n",
      "MixedIntegerRounding2 was tried 38 times and created 1 cuts of which 0 were active after adding rounds of cuts (0.001 seconds)\n",
      "FlowCover was tried 38 times and created 0 cuts of which 0 were active after adding rounds of cuts (0.002 seconds)\n",
      "TwoMirCuts was tried 1 times and created 0 cuts of which 0 were active after adding rounds of cuts (0.000 seconds)\n",
      "ZeroHalf was tried 1 times and created 0 cuts of which 0 were active after adding rounds of cuts (0.019 seconds)\n",
      "\n",
      "Result - Optimal solution found\n",
      "\n",
      "Objective value:                589013.00000000\n",
      "Enumerated nodes:               2\n",
      "Total iterations:               72\n",
      "Time (CPU seconds):             0.04\n",
      "Time (Wallclock seconds):       0.02\n",
      "\n",
      "Total time (CPU seconds):       0.04   (Wallclock seconds):       0.02\n",
      "\n"
     ]
    }
   ],
   "source": [
    "using JuMP, Cbc\n",
    "m = Model(Cbc.Optimizer)\n",
    "@variable(m, λ[1:3] >= 0, Int) # variables for each primal constraint\n",
    "\n",
    "# constraints ensuring the correct relationship with each primal variable\n",
    "# to guarantee an upper bound \n",
    "@constraint(m, 2λ[1] + 5λ[2] + 0.25λ[3] >= 60)\n",
    "@constraint(m, 3λ[1] + 5λ[2] + λ[3] >= 120)\n",
    "@constraint(m, 3λ[1] + 10λ[2] + 2λ[3] >= 200)\n",
    "@constraint(m, 5λ[1] + 15λ[2] + 3.5λ[3] >= 300)\n",
    "\n",
    "# objective is to minimize the upper bound on the primal solution\n",
    "@objective(m, Min, 12001λ[1] + 32000λ[2] + 5000λ[3] )\n",
    "\n",
    "# solve this instance of the Top Brass dual\n",
    "optimize!(m)\n",
    "\n",
    "# print the dual model and solution\n",
    "display(m)\n",
    "\n",
    "println(\"dual variables are: \", value.(λ))\n",
    "println(\"Optimal objective is: \", objective_value(m))\n"
   ]
  },
  {
   "cell_type": "markdown",
   "metadata": {},
   "source": [
    "By comparison of two dual problem, willing to pay 13 dollars."
   ]
  },
  {
   "cell_type": "markdown",
   "metadata": {},
   "source": [
    "## (c)"
   ]
  },
  {
   "cell_type": "markdown",
   "metadata": {},
   "source": [
    "Estimate: <br>\n",
    "previous optimal solution:<br>\n",
    "x1 = 1866.9999999999998<br>\n",
    "x2 = 977.0<br>\n",
    "x3 = 1778.0<br>\n",
    "x4 = 0.0<br>\n",
    "since consstraints do not change, this solution is still feasible for the new problem, hence, the new max profit $ z*_{NEW}\\geq 60*x1+ 130*x2+ 215*x3+ 300*x4 = 621300 $.\n"
   ]
  },
  {
   "cell_type": "markdown",
   "metadata": {},
   "source": [
    "The new optimal profit:"
   ]
  },
  {
   "cell_type": "code",
   "execution_count": 13,
   "metadata": {},
   "outputs": [
    {
     "data": {
      "text/latex": [
       "$$ \\begin{alignat*}{1}\\max\\quad & 60 x1 + 130 x2 + 215 x3 + 300 x4\\\\\n",
       "\\text{Subject to} \\quad & 2 x1 + 3 x2 + 3 x3 + 5 x4 \\leq 12000.0\\\\\n",
       " & 5 x1 + 5 x2 + 10 x3 + 15 x4 \\leq 32000.0\\\\\n",
       " & 0.25 x1 + x2 + 2 x3 + 3.5 x4 \\leq 5000.0\\\\\n",
       " & x1 \\geq 0.0\\\\\n",
       " & x2 \\geq 0.0\\\\\n",
       " & x3 \\geq 0.0\\\\\n",
       " & x4 \\geq 0.0\\\\\n",
       " & x1 integer\\\\\n",
       " & x2 integer\\\\\n",
       " & x3 integer\\\\\n",
       " & x4 integer\\\\\n",
       "\\end{alignat*}\n",
       " $$"
      ],
      "text/plain": [
       "A JuMP Model\n",
       "Maximization problem with:\n",
       "Variables: 4\n",
       "Objective function type: GenericAffExpr{Float64,VariableRef}\n",
       "`GenericAffExpr{Float64,VariableRef}`-in-`MathOptInterface.LessThan{Float64}`: 3 constraints\n",
       "`VariableRef`-in-`MathOptInterface.GreaterThan{Float64}`: 4 constraints\n",
       "`VariableRef`-in-`MathOptInterface.Integer`: 4 constraints\n",
       "Model mode: AUTOMATIC\n",
       "CachingOptimizer state: ATTACHED_OPTIMIZER\n",
       "Solver name: COIN Branch-and-Cut (Cbc)\n",
       "Names registered in the model: con1, con2, con3, x1, x2, x3, x4"
      ]
     },
     "metadata": {},
     "output_type": "display_data"
    },
    {
     "name": "stdout",
     "output_type": "stream",
     "text": [
      "x1 = 1866.9999999999998\n",
      "x2 = 977.0\n",
      "x3 = 1778.0\n",
      "x4 = 0.0\n",
      "max profit will be $621300.0\n",
      "Welcome to the CBC MILP Solver \n",
      "Version: 2.10.3 \n",
      "Build Date: May 23 2020 \n",
      "\n",
      "command line - Cbc_C_Interface -solve -quit (default strategy 1)\n",
      "Continuous objective value is 621333 - 0.00 seconds\n",
      "Cgl0004I processed model has 3 rows, 4 columns (4 integer (0 of which binary)) and 12 elements\n",
      "Cbc0012I Integer solution of -621025 found by DiveCoefficient after 0 iterations and 0 nodes (0.00 seconds)\n",
      "Cbc0038I Full problem 3 rows 4 columns, reduced to 3 rows 3 columns\n",
      "Cbc0012I Integer solution of -621300 found by DiveCoefficient after 6 iterations and 0 nodes (0.03 seconds)\n",
      "Cbc0031I 3 added rows had average density of 4\n",
      "Cbc0013I At root node, 3 cuts changed objective from -621333.33 to -621300 in 6 passes\n",
      "Cbc0014I Cut generator 0 (Probing) - 0 row cuts average 0.0 elements, 0 column cuts (0 active)  in 0.000 seconds - new frequency is -100\n",
      "Cbc0014I Cut generator 1 (Gomory) - 11 row cuts average 4.0 elements, 0 column cuts (0 active)  in 0.000 seconds - new frequency is 1\n",
      "Cbc0014I Cut generator 2 (Knapsack) - 0 row cuts average 0.0 elements, 0 column cuts (0 active)  in 0.000 seconds - new frequency is -100\n",
      "Cbc0014I Cut generator 3 (Clique) - 0 row cuts average 0.0 elements, 0 column cuts (0 active)  in 0.000 seconds - new frequency is -100\n",
      "Cbc0014I Cut generator 4 (MixedIntegerRounding2) - 0 row cuts average 0.0 elements, 0 column cuts (0 active)  in 0.000 seconds - new frequency is -100\n",
      "Cbc0014I Cut generator 5 (FlowCover) - 0 row cuts average 0.0 elements, 0 column cuts (0 active)  in 0.000 seconds - new frequency is -100\n",
      "Cbc0001I Search completed - best objective -621300, took 6 iterations and 0 nodes (0.03 seconds)\n",
      "Cbc0035I Maximum depth 0, 0 variables fixed on reduced cost\n",
      "Cuts at root node changed objective from -621333 to -621300\n",
      "Probing was tried 6 times and created 0 cuts of which 0 were active after adding rounds of cuts (0.000 seconds)\n",
      "Gomory was tried 6 times and created 11 cuts of which 0 were active after adding rounds of cuts (0.000 seconds)\n",
      "Knapsack was tried 6 times and created 0 cuts of which 0 were active after adding rounds of cuts (0.000 seconds)\n",
      "Clique was tried 6 times and created 0 cuts of which 0 were active after adding rounds of cuts (0.000 seconds)\n",
      "MixedIntegerRounding2 was tried 6 times and created 0 cuts of which 0 were active after adding rounds of cuts (0.000 seconds)\n",
      "FlowCover was tried 6 times and created 0 cuts of which 0 were active after adding rounds of cuts (0.000 seconds)\n",
      "TwoMirCuts was tried 1 times and created 0 cuts of which 0 were active after adding rounds of cuts (0.000 seconds)\n",
      "ZeroHalf was tried 1 times and created 0 cuts of which 0 were active after adding rounds of cuts (0.019 seconds)\n",
      "\n",
      "Result - Optimal solution found\n",
      "\n",
      "Objective value:                621300.00000000\n",
      "Enumerated nodes:               0\n",
      "Total iterations:               6\n",
      "Time (CPU seconds):             0.03\n",
      "Time (Wallclock seconds):       0.02\n",
      "\n",
      "Total time (CPU seconds):       0.03   (Wallclock seconds):       0.02\n",
      "\n"
     ]
    }
   ],
   "source": [
    "using JuMP, Cbc\n",
    "m = Model(Cbc.Optimizer)\n",
    "\n",
    "@variable(m, x1 >= 0, Int)                   \n",
    "@variable(m, x2 >= 0, Int)\n",
    "@variable(m, x3 >= 0, Int)\n",
    "@variable(m, x4 >= 0, Int)\n",
    "\n",
    "\n",
    "@constraint(m, con1,   2*x1+ 3*x2+ 3*x3+ 5*x4 <= 12000)  \n",
    "@constraint(m, con2,  5*x1+ 5*x2+ 10*x3+ 15*x4 <= 32000) \n",
    "@constraint(m, con3,   0.25*x1+ x2+ 2*x3+ 3.5*x4 <= 5000 ) \n",
    "\n",
    "\n",
    "@objective(m, Max, 60*x1+ 130*x2+ 215*x3+ 300*x4)              # maximize profit\n",
    "\n",
    "# solve this instance of the Top Brass problem\n",
    "optimize!(m)\n",
    "\n",
    "# print out the full model and solution\n",
    "display(m)\n",
    "\n",
    "println(\"x1 = \", value(x1))\n",
    "println(\"x2 = \", value(x2))\n",
    "println(\"x3 = \", value(x3))\n",
    "println(\"x4 = \", value(x4))\n",
    "\n",
    "println(\"max profit will be \\$\", objective_value(m))"
   ]
  },
  {
   "cell_type": "markdown",
   "metadata": {},
   "source": [
    "## (d)"
   ]
  },
  {
   "cell_type": "markdown",
   "metadata": {},
   "source": [
    "Estimate: <br>\n",
    "x1 == 1866.9999999999998<br>\n",
    "x2 == 977.0<br>\n",
    "x3 == 1778.0<br>\n",
    "x4 == 0.0<br>\n",
    "Consider the constriants <br>\n",
    "2*x1+ 3*x2+ 3*x3+ 5*x4 = 11999<br>\n",
    "5*x1+ 5*x2+ 10*x3+ 15*x4 = 32000<br>\n",
    "0.25*x1+ x2+ 2*x3+ 3.5*x4 = 4999.75<br>\n",
    "If we decrease the labor availability by 1000 hours, the first contraint will be binding. Since the object function does not change, new optimal profit $ z*_{NEW}\\leq 60*x1+ 120*x2+ 200*x3+ 300*x4 = 584860 $."
   ]
  },
  {
   "cell_type": "code",
   "execution_count": 14,
   "metadata": {},
   "outputs": [
    {
     "data": {
      "text/latex": [
       "$$ \\begin{alignat*}{1}\\max\\quad & 60 x1 + 120 x2 + 200 x3 + 300 x4\\\\\n",
       "\\text{Subject to} \\quad & 2 x1 + 3 x2 + 3 x3 + 5 x4 \\leq 11000.0\\\\\n",
       " & 5 x1 + 5 x2 + 10 x3 + 15 x4 \\leq 36000.0\\\\\n",
       " & 0.25 x1 + x2 + 2 x3 + 3.5 x4 \\leq 5000.0\\\\\n",
       " & x1 \\geq 0.0\\\\\n",
       " & x2 \\geq 0.0\\\\\n",
       " & x3 \\geq 0.0\\\\\n",
       " & x4 \\geq 0.0\\\\\n",
       " & x1 integer\\\\\n",
       " & x2 integer\\\\\n",
       " & x3 integer\\\\\n",
       " & x4 integer\\\\\n",
       "\\end{alignat*}\n",
       " $$"
      ],
      "text/plain": [
       "A JuMP Model\n",
       "Maximization problem with:\n",
       "Variables: 4\n",
       "Objective function type: GenericAffExpr{Float64,VariableRef}\n",
       "`GenericAffExpr{Float64,VariableRef}`-in-`MathOptInterface.LessThan{Float64}`: 3 constraints\n",
       "`VariableRef`-in-`MathOptInterface.GreaterThan{Float64}`: 4 constraints\n",
       "`VariableRef`-in-`MathOptInterface.Integer`: 4 constraints\n",
       "Model mode: AUTOMATIC\n",
       "CachingOptimizer state: ATTACHED_OPTIMIZER\n",
       "Solver name: COIN Branch-and-Cut (Cbc)\n",
       "Names registered in the model: con1, con2, con3, x1, x2, x3, x4"
      ]
     },
     "metadata": {},
     "output_type": "display_data"
    },
    {
     "name": "stdout",
     "output_type": "stream",
     "text": [
      "x1 = 2152.0\n",
      "x2 = 2.0\n",
      "x3 = 2230.0\n",
      "x4 = 0.0\n",
      "max profit will be $575360.0\n",
      "Welcome to the CBC MILP Solver \n",
      "Version: 2.10.3 \n",
      "Build Date: May 23 2020 \n",
      "\n",
      "command line - Cbc_C_Interface -solve -quit (default strategy 1)\n",
      "Continuous objective value is 575385 - 0.00 seconds\n",
      "Cgl0004I processed model has 3 rows, 4 columns (4 integer (0 of which binary)) and 12 elements\n",
      "Cbc0012I Integer solution of -575180 found by DiveCoefficient after 0 iterations and 0 nodes (0.00 seconds)\n",
      "Cbc0038I Full problem 3 rows 4 columns, reduced to 3 rows 2 columns\n",
      "Cbc0012I Integer solution of -575360 found by DiveCoefficient after 1 iterations and 0 nodes (0.02 seconds)\n",
      "Cbc0031I 1 added rows had average density of 4\n",
      "Cbc0013I At root node, 1 cuts changed objective from -575384.62 to -575360 in 7 passes\n",
      "Cbc0014I Cut generator 0 (Probing) - 0 row cuts average 0.0 elements, 10 column cuts (10 active)  in 0.000 seconds - new frequency is 1\n",
      "Cbc0014I Cut generator 1 (Gomory) - 2 row cuts average 4.0 elements, 0 column cuts (0 active)  in 0.000 seconds - new frequency is 1\n",
      "Cbc0014I Cut generator 2 (Knapsack) - 0 row cuts average 0.0 elements, 0 column cuts (0 active)  in 0.000 seconds - new frequency is -100\n",
      "Cbc0014I Cut generator 3 (Clique) - 0 row cuts average 0.0 elements, 0 column cuts (0 active)  in 0.000 seconds - new frequency is -100\n",
      "Cbc0014I Cut generator 4 (MixedIntegerRounding2) - 0 row cuts average 0.0 elements, 0 column cuts (0 active)  in 0.000 seconds - new frequency is -100\n",
      "Cbc0014I Cut generator 5 (FlowCover) - 0 row cuts average 0.0 elements, 0 column cuts (0 active)  in 0.000 seconds - new frequency is -100\n",
      "Cbc0001I Search completed - best objective -575360, took 1 iterations and 0 nodes (0.02 seconds)\n",
      "Cbc0035I Maximum depth 0, 0 variables fixed on reduced cost\n",
      "Cuts at root node changed objective from -575385 to -575360\n",
      "Probing was tried 7 times and created 10 cuts of which 0 were active after adding rounds of cuts (0.000 seconds)\n",
      "Gomory was tried 7 times and created 2 cuts of which 0 were active after adding rounds of cuts (0.000 seconds)\n",
      "Knapsack was tried 7 times and created 0 cuts of which 0 were active after adding rounds of cuts (0.000 seconds)\n",
      "Clique was tried 7 times and created 0 cuts of which 0 were active after adding rounds of cuts (0.000 seconds)\n",
      "MixedIntegerRounding2 was tried 7 times and created 0 cuts of which 0 were active after adding rounds of cuts (0.000 seconds)\n",
      "FlowCover was tried 7 times and created 0 cuts of which 0 were active after adding rounds of cuts (0.000 seconds)\n",
      "TwoMirCuts was tried 1 times and created 0 cuts of which 0 were active after adding rounds of cuts (0.000 seconds)\n",
      "ZeroHalf was tried 1 times and created 0 cuts of which 0 were active after adding rounds of cuts (0.019 seconds)\n",
      "\n",
      "Result - Optimal solution found\n",
      "\n",
      "Objective value:                575360.00000000\n",
      "Enumerated nodes:               0\n",
      "Total iterations:               1\n",
      "Time (CPU seconds):             0.03\n",
      "Time (Wallclock seconds):       0.02\n",
      "\n",
      "Total time (CPU seconds):       0.03   (Wallclock seconds):       0.02\n",
      "\n"
     ]
    }
   ],
   "source": [
    "using JuMP, Cbc\n",
    "m = Model(Cbc.Optimizer)\n",
    "\n",
    "@variable(m, x1 >= 0, Int)                   \n",
    "@variable(m, x2 >= 0, Int)\n",
    "@variable(m, x3 >= 0, Int)\n",
    "@variable(m, x4 >= 0, Int)\n",
    "\n",
    "\n",
    "@constraint(m, con1,   2*x1+ 3*x2+ 3*x3+ 5*x4 <= 11000)  \n",
    "@constraint(m, con2,  5*x1+ 5*x2+ 10*x3+ 15*x4 <= 36000) \n",
    "@constraint(m, con3,   0.25*x1+ x2+ 2*x3+ 3.5*x4 <= 5000 ) \n",
    "\n",
    "\n",
    "@objective(m, Max, 60*x1+ 120*x2+ 200*x3+ 300*x4)              # maximize profit\n",
    "\n",
    "# solve this instance of the Top Brass problem\n",
    "optimize!(m)\n",
    "\n",
    "# print out the full model and solution\n",
    "display(m)\n",
    "\n",
    "println(\"x1 = \", value(x1))\n",
    "println(\"x2 = \", value(x2))\n",
    "println(\"x3 = \", value(x3))\n",
    "println(\"x4 = \", value(x4))\n",
    "\n",
    "println(\"max profit will be \\$\", objective_value(m))"
   ]
  },
  {
   "cell_type": "code",
   "execution_count": null,
   "metadata": {},
   "outputs": [],
   "source": []
  },
  {
   "cell_type": "code",
   "execution_count": null,
   "metadata": {},
   "outputs": [],
   "source": []
  }
 ],
 "metadata": {
  "kernelspec": {
   "display_name": "Julia 1.3.1",
   "language": "julia",
   "name": "julia-1.3"
  },
  "language_info": {
   "file_extension": ".jl",
   "mimetype": "application/julia",
   "name": "julia",
   "version": "1.3.1"
  }
 },
 "nbformat": 4,
 "nbformat_minor": 4
}
