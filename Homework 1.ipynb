{
 "cells": [
  {
   "cell_type": "markdown",
   "metadata": {},
   "source": [
    "# Homework1, CS 524, Lorraine Chen"
   ]
  },
  {
   "cell_type": "markdown",
   "metadata": {},
   "source": [
    "## Problem 1"
   ]
  },
  {
   "cell_type": "markdown",
   "metadata": {},
   "source": [
    "Using Clp Solver"
   ]
  },
  {
   "cell_type": "code",
   "execution_count": 36,
   "metadata": {},
   "outputs": [
    {
     "name": "stdout",
     "output_type": "stream",
     "text": [
      "Time to solve this model using Clp: \n",
      "  0.001072 seconds (1.80 k allocations: 122.953 KiB)\n",
      "x1 = 7.5\n",
      "x2 = 0.0\n",
      "x3 = 0.0\n",
      "x4 = 5.0\n",
      "The minimum value of the objective function is 3.75\n",
      "Coin0506I Presolve 0 (-2) rows, 0 (-4) columns and 0 (-6) elements\n",
      "Clp3002W Empty problem - 0 rows, 0 columns and 0 elements\n",
      "Clp0000I Optimal - objective value 3.75\n",
      "Coin0511I After Postsolve, objective 3.75, infeasibilities - dual 0 (0), primal 0 (0)\n",
      "Clp0032I Optimal objective 3.75 - 0 iterations time 0.002, Presolve 0.00\n"
     ]
    }
   ],
   "source": [
    "# always specify which packages you're going to use\n",
    "using JuMP, Clp\n",
    "\n",
    "# create a new model object\n",
    "m = Model()\n",
    "\n",
    "# specify the solver you want to use to solve Model m\n",
    "set_optimizer(m, Clp.Optimizer)\n",
    "\n",
    "# we need variables x1,...,x4\n",
    "# format is (<model name>, <variable name>). we can optionally\n",
    "# include bounds on each variable.\n",
    "@variable(m, x1 >= 0)\n",
    "@variable(m, x2 <= 0)\n",
    "@variable(m, x3 >= 0)\n",
    "@variable(m, x4 == 5)\n",
    "\n",
    "# objective is to maximize profit\n",
    "# format is (<model name>, <Max or Min>, <algebraic function>)\n",
    "@objective(m, Min, 0.5*x1 - 7*x2 + (1/3)*x3)\n",
    "\n",
    "# constraints\n",
    "# format is (<model name>, <constraint name>, <algebraic constraint>)\n",
    "@constraint(m, con1, x1 + x2 - 2*x3 + 0.5*x4 ≥ 10)\n",
    "@constraint(m, con2, - x1 + 3*x2 ≤ -2)\n",
    "\n",
    "# use the @time macro to measure the amount of time it takes to solve m\n",
    "println(\"Time to solve this model using Clp: \")\n",
    "@time(optimize!(m))\n",
    "\n",
    "println(\"x1 = \", value(x1))\n",
    "println(\"x2 = \", value(x2))\n",
    "println(\"x3 = \", value(x3))\n",
    "println(\"x4 = \", value(x4))\n",
    "println(\"The minimum value of the objective function is \", objective_value(m))\n"
   ]
  },
  {
   "cell_type": "markdown",
   "metadata": {},
   "source": [
    "Using ECOS Solver"
   ]
  },
  {
   "cell_type": "code",
   "execution_count": 38,
   "metadata": {},
   "outputs": [
    {
     "name": "stdout",
     "output_type": "stream",
     "text": [
      "\u001b[32m\u001b[1m Resolving\u001b[22m\u001b[39m package versions...\n",
      "\u001b[32m\u001b[1m  Updating\u001b[22m\u001b[39m `~/.julia/environments/v1.3/Project.toml`\n",
      "\u001b[90m [no changes]\u001b[39m\n",
      "\u001b[32m\u001b[1m  Updating\u001b[22m\u001b[39m `~/.julia/environments/v1.3/Manifest.toml`\n",
      "\u001b[90m [no changes]\u001b[39m\n",
      "Time to solve this model using ECOS: \n",
      "  0.003075 seconds (3.12 k allocations: 198.813 KiB)\n",
      "x1 = 7.500000000019637\n",
      "x2 = 2.7672727138375614e-11\n",
      "x3 = -3.736247973302586e-11\n",
      "x4 = 5.0\n",
      "The minimum value of the objective function is 3.7499999998036553\n",
      "\n",
      "ECOS 2.0.5 - (C) embotech GmbH, Zurich Switzerland, 2012-15. Web: www.embotech.com/ECOS\n",
      "\n",
      "It     pcost       dcost      gap   pres   dres    k/t    mu     step   sigma     IR    |   BT\n",
      " 0  -9.263e-01  +9.593e+00  +3e+01  5e-01  5e-01  1e+00  5e+00    ---    ---    1  1  - |  -  - \n",
      " 1  +3.968e+00  +5.340e+00  +2e+00  5e-02  7e-02  3e-01  4e-01  0.9219  2e-03   0  0  0 |  0  0\n",
      " 2  +3.737e+00  +3.764e+00  +5e-02  9e-04  1e-03  5e-03  8e-03  0.9785  8e-04   0  0  0 |  0  0\n",
      " 3  +3.750e+00  +3.750e+00  +5e-04  1e-05  1e-05  5e-05  9e-05  0.9890  1e-04   1  0  0 |  0  0\n",
      " 4  +3.750e+00  +3.750e+00  +6e-06  1e-07  2e-07  6e-07  1e-06  0.9890  1e-04   1  0  0 |  0  0\n",
      " 5  +3.750e+00  +3.750e+00  +7e-08  1e-09  2e-09  7e-09  1e-08  0.9890  1e-04   1  0  0 |  0  0\n",
      " 6  +3.750e+00  +3.750e+00  +7e-10  1e-11  2e-11  8e-11  1e-10  0.9890  1e-04   1  0  0 |  0  0\n",
      "\n",
      "OPTIMAL (within feastol=2.0e-11, reltol=1.9e-10, abstol=7.3e-10).\n",
      "Runtime: 0.000070 seconds.\n",
      "\n"
     ]
    }
   ],
   "source": [
    "# using package ECOS\n",
    "import Pkg\n",
    "Pkg.add(\"ECOS\")\n",
    "using ECOS\n",
    "\n",
    "# use the @time macro to measure the amount of time it takes to solve m\n",
    "println(\"Time to solve this model using ECOS: \")\n",
    "set_optimizer(m, ECOS.Optimizer)\n",
    "@time(optimize!(m))\n",
    "\n",
    "println(\"x1 = \", value(x1))\n",
    "println(\"x2 = \", value(x2))\n",
    "println(\"x3 = \", value(x3))\n",
    "println(\"x4 = \", value(x4))\n",
    "println(\"The minimum value of the objective function is \", objective_value(m))"
   ]
  },
  {
   "cell_type": "markdown",
   "metadata": {},
   "source": [
    "Using SCS Solver"
   ]
  },
  {
   "cell_type": "code",
   "execution_count": 18,
   "metadata": {},
   "outputs": [
    {
     "name": "stdout",
     "output_type": "stream",
     "text": [
      "\u001b[32m\u001b[1m Resolving\u001b[22m\u001b[39m package versions...\n",
      "\u001b[32m\u001b[1m  Updating\u001b[22m\u001b[39m `~/.julia/environments/v1.3/Project.toml`\n",
      "\u001b[90m [no changes]\u001b[39m\n",
      "\u001b[32m\u001b[1m  Updating\u001b[22m\u001b[39m `~/.julia/environments/v1.3/Manifest.toml`\n",
      "\u001b[90m [no changes]\u001b[39m\n",
      "Time to solve this model using SCS: \n",
      "  0.002039 seconds (2.55 k allocations: 167.797 KiB)\n",
      "x1 = 7.5\n",
      "x2 = 0.0\n",
      "x3 = 0.0\n",
      "x4 = 5.0\n",
      "The minimum value of the objective function is -9.999999999632589\n",
      "----------------------------------------------------------------------------\n",
      "\tSCS v2.1.1 - Splitting Conic Solver\n",
      "\t(c) Brendan O'Donoghue, Stanford University, 2012\n",
      "----------------------------------------------------------------------------\n",
      "Lin-sys: sparse-indirect, nnz in A = 8, CG tol ~ 1/iter^(2.00)\n",
      "eps = 1.00e-05, alpha = 1.50, max_iters = 5000, normalize = 1, scale = 1.00\n",
      "acceleration_lookback = 10, rho_x = 1.00e-03\n",
      "Variables n = 2, constraints m = 5\n",
      "Cones:\tlinear vars: 5\n",
      "Setup time: 3.14e-05s\n",
      "----------------------------------------------------------------------------\n",
      " Iter | pri res | dua res | rel gap | pri obj | dua obj | kap/tau | time (s)\n",
      "----------------------------------------------------------------------------\n",
      "     0| 1.62e+19  2.94e+18  7.76e-01 -1.37e+20 -1.73e+19  5.25e+19  1.53e-05 \n",
      "    13| 1.55e-11  5.00e-11  5.28e-12 -1.00e+01 -1.00e+01  7.52e-16  7.65e-05 \n",
      "----------------------------------------------------------------------------\n",
      "Status: Solved\n",
      "Timing: Solve time: 7.74e-05s\n",
      "\tLin-sys: avg # CG iterations: 1.00, avg solve time: 3.33e-07s\n",
      "\tCones: avg projection time: 4.51e-08s\n",
      "\tAcceleration: avg step time: 3.48e-06s\n",
      "----------------------------------------------------------------------------\n",
      "Error metrics:\n",
      "dist(s, K) = 6.1766e-17, dist(y, K*) = 0.0000e+00, s'y/|s||y| = 6.4119e-17\n",
      "primal res: |Ax + s - b|_2 / (1 + |b|_2) = 1.5475e-11\n",
      "dual res:   |A'y + c|_2 / (1 + |c|_2) = 4.9982e-11\n",
      "rel gap:    |c'x + b'y| / (1 + |c'x| + |b'y|) = 5.2845e-12\n",
      "----------------------------------------------------------------------------\n",
      "c'x = -10.0000, -b'y = -10.0000\n",
      "============================================================================\n"
     ]
    }
   ],
   "source": [
    "# use the package SCS\n",
    "import Pkg\n",
    "Pkg.add(\"SCS\")\n",
    "using SCS\n",
    "\n",
    "# use the @time macro to measure the amount of time it takes to solve m\n",
    "println(\"Time to solve this model using SCS: \")\n",
    "set_optimizer(m, SCS.Optimizer)\n",
    "@time(optimize!(m))\n",
    "\n",
    "println(\"x1 = \", value(x1))\n",
    "println(\"x2 = \", value(x2))\n",
    "println(\"x3 = \", value(x3))\n",
    "println(\"x4 = \", value(x4))\n",
    "println(\"The minimum value of the objective function is \", objective_value(m))"
   ]
  },
  {
   "cell_type": "markdown",
   "metadata": {},
   "source": [
    "\n",
    "1. **Which solver is most accurate?**<br/>\n",
    "    Clp is most accurate, because it is a dedicated LP solver.\n",
    "\n",
    "2. **Which is fastest (use the @time macro)? (Note: you should run each solver several times to get an average time.) Can you speculate as to why?**<br/>\n",
    "    Clp is fastest, since Clp model is most specialized. The other two solvers are more generalized and broadly used models, so they are slower.\n",
    "\n",
    "3. **If there is no clear difference between the solvers, can you think of some factors that might contribute to solver speed differences?**<br/>\n",
    "    Repeating times: by repeating running these solvers, I found they complete faster and the speed differences among them become less clear. (other factors may be the size of the problem, the algorithm)\n"
   ]
  },
  {
   "cell_type": "markdown",
   "metadata": {},
   "source": [
    "## Problem 2"
   ]
  },
  {
   "cell_type": "markdown",
   "metadata": {},
   "source": [
    "**(a) Formulate a linear program to help Prof. Smith figure out how many pounds of each type of material (iron and steel) she should purchase to minimize her character’s “slowness.” State the math model, then code and solve the model using Julia.**"
   ]
  },
  {
   "cell_type": "markdown",
   "metadata": {},
   "source": [
    "The math model: $x_{1}$ denotes the amount of steel, $x_{2}$ denotes the amount of iron <br>\n",
    "objective function:\n",
    "$$\\min x_{1}-3{x_2}$$ \n",
    "subject to:\n",
    "$$ x_{1} - x_{2} \\geq -2$$ \n",
    "$$ x_{1} + 2x_{2} \\geq 6$$ \n",
    "$$2x_{1} + x_{2} \\leq 8$$ \n",
    "$$x_{1}, x_{2}\\geq0$$\n",
    "\n",
    "\n",
    "\n"
   ]
  },
  {
   "cell_type": "code",
   "execution_count": 21,
   "metadata": {},
   "outputs": [
    {
     "name": "stdout",
     "output_type": "stream",
     "text": [
      "steel: 2.0 pounds.\n",
      "iron: 4.0 pounds.\n",
      "slowness(minimum): -10.0\n",
      "Coin0506I Presolve 3 (0) rows, 2 (0) columns and 6 (0) elements\n",
      "Clp0006I 0  Obj 0 Primal inf 5.9999999 (1) Dual inf 2.9999999 (1)\n",
      "Clp0006I 2  Obj -10\n",
      "Clp0000I Optimal - objective value -10\n",
      "Clp0032I Optimal objective -10 - 2 iterations time 0.002\n"
     ]
    }
   ],
   "source": [
    "# packages\n",
    "using JuMP, Clp\n",
    "\n",
    "# create a new model object, specifying the solver\n",
    "m = Model(Clp.Optimizer)\n",
    "\n",
    "# we need variables for the total amount of steel and iron (pounds)\n",
    "# format is (<model name>, <variable name>). we can optionally\n",
    "# include bounds on each variable.\n",
    "@variable(m, steel >= 0)\n",
    "@variable(m, iron >= 0)\n",
    "\n",
    "# objective is to minimize the \"slowness\"\n",
    "# format is (<model name>, <Max or Min>, <algebraic function>)\n",
    "@objective(m, Min, steel - 3*iron)\n",
    "\n",
    "# constraint on total damage, protection and surface area\n",
    "# total damage is at least -2 points\n",
    "# total protection is at least 6 points\n",
    "# maximum surface area is 8 m^2\n",
    "# format is (<model name>, <constraint name>, <algebraic constraint>)\n",
    "@constraint(m, damage, steel - iron >= -2)\n",
    "@constraint(m, protection, steel + 2*iron >= 6)\n",
    "@constraint(m, surarea, 2*steel + iron <= 8)\n",
    "\n",
    "# solve the instance of the problem\n",
    "optimize!(m)\n",
    "\n",
    "# display solution information\n",
    "println(\"steel: \", value.(steel), \" pounds.\")\n",
    "println(\"iron: \", value.(iron), \" pounds.\")\n",
    "println(\"slowness(minimum): \", objective_value(m))"
   ]
  },
  {
   "cell_type": "markdown",
   "metadata": {},
   "source": [
    "**(b) Code the same model once again, this time separating the parameters from the model as we did in class (see Top Brass examples). Confirm that you obtain the same solution as in part (a).**"
   ]
  },
  {
   "cell_type": "code",
   "execution_count": 24,
   "metadata": {},
   "outputs": [
    {
     "name": "stdout",
     "output_type": "stream",
     "text": [
      "\u001b[32m\u001b[1m Resolving\u001b[22m\u001b[39m package versions...\n",
      "\u001b[32m\u001b[1m  Updating\u001b[22m\u001b[39m `~/.julia/environments/v1.3/Project.toml`\n",
      "\u001b[90m [no changes]\u001b[39m\n",
      "\u001b[32m\u001b[1m  Updating\u001b[22m\u001b[39m `~/.julia/environments/v1.3/Manifest.toml`\n",
      "\u001b[90m [no changes]\u001b[39m\n"
     ]
    },
    {
     "data": {
      "text/plain": [
       "2×3 Named Array{Int64,2}\n",
       "Material ╲ characteristics │       :damage    :protection  :surface_area\n",
       "───────────────────────────┼────────────────────────────────────────────\n",
       ":steel                     │             1              1             -2\n",
       ":iron                      │            -1              2             -1"
      ]
     },
     "execution_count": 24,
     "metadata": {},
     "output_type": "execute_result"
    }
   ],
   "source": [
    "# Problem Data\n",
    "\n",
    "materials = [:steel, :iron] # these are 2 possible materials\n",
    "\n",
    "characteristics = [:damage, :protection, :surface_area] # 3 characteristics for materials\n",
    "\n",
    "slowness = Dict( zip(materials, [1,-3] ) ) # slowness = steel(pounds) - 3*iron(pounds)\n",
    "\n",
    "char_bounds = Dict( zip(characteristics, [-2, 6, -8] ) ); # bounds of each type of characteristic (here I changed 8 -> -8)\n",
    "\n",
    "# we use the NamedArrays package (you'll need to Pkg.add it first)\n",
    "using Pkg\n",
    "Pkg.add(\"NamedArrays\")\n",
    "using NamedArrays\n",
    "\n",
    "# create a matrix (Array) of the \"recipe\" for each material type. \n",
    "# each row is a material type, each column is a resource (should be ordered the same as the characteristics array).\n",
    "# we read this as: \"material type 1 (:steel) causes 1 of characteristics 1 (:damage), 1 of characteristics 2 \n",
    "# (:protection), 2 of characteristics 3 (:surface_area)\"\n",
    "# row 2 is similar, but for material type :iron.\n",
    "# Notes: change the sign of surface area to match the model afterwards for one-side char_bounds\n",
    "material_char_matrix = [1 1 -2; -1 2 -1]\n",
    "\n",
    "# create NamedArray that contains info on how much of each resource each trophy uses.\n",
    "# syntax is (<\"recipe\" matrix>, (<row indices>,<column indices>),(<row name>,<column name>))\n",
    "material_char_NA = NamedArray(material_char_matrix, (materials, characteristics), (\"Material\",\"characteristics\"))\n",
    "\n",
    "# check out the output to see how NamedArrays are structured:"
   ]
  },
  {
   "cell_type": "markdown",
   "metadata": {},
   "source": [
    "Notes: here, I change the sign of surface area to match the one-side char_bounds in the model."
   ]
  },
  {
   "cell_type": "code",
   "execution_count": 25,
   "metadata": {},
   "outputs": [
    {
     "name": "stdout",
     "output_type": "stream",
     "text": [
      "steel: 2.0 pounds.\n",
      "iron: 4.0 pounds.\n",
      "slowness(minimum): -10.0\n",
      "Coin0506I Presolve 3 (0) rows, 2 (0) columns and 6 (0) elements\n",
      "Clp0006I 0  Obj 0 Primal inf 5.9999999 (1) Dual inf 2.9999999 (1)\n",
      "Clp0006I 2  Obj -10\n",
      "Clp0000I Optimal - objective value -10\n",
      "Clp0032I Optimal objective -10 - 2 iterations time 0.002\n"
     ]
    }
   ],
   "source": [
    "# Model\n",
    "\n",
    "# always specify which packages you're going to use\n",
    "using JuMP, Clp\n",
    "\n",
    "# create a new model object, specifying the solver\n",
    "m = Model(Clp.Optimizer)\n",
    "\n",
    "# variable object is now a Dictionary indexed over material types (elements are variables)\n",
    "@variable(m, material[materials] >= 0)\n",
    "\n",
    "# use an expression object to calculate the total \"slowness\"\n",
    "@expression(m, tot_slowness, sum(slowness[i] * material[i] for i in materials) )\n",
    "\n",
    "# our material/char NamedArray allows us to create a Dictionary of constraints.\n",
    "# indices are characteristics, and elements are constraint objects.\n",
    "@constraint(m, constr[i in characteristics], sum(material_char_NA[t, i] * material[t] for t in materials) >= char_bounds[i] )\n",
    "\n",
    "# our objective is to minimize the total \"slowness\"\n",
    "@objective(m, Min, tot_slowness)\n",
    "\n",
    "# solve the instance of the problem\n",
    "optimize!(m)\n",
    "\n",
    "# display solution information\n",
    "println(\"steel: \", value.(steel), \" pounds.\")\n",
    "println(\"iron: \", value.(iron), \" pounds.\")\n",
    "println(\"slowness(minimum): \", objective_value(m))"
   ]
  },
  {
   "cell_type": "markdown",
   "metadata": {},
   "source": [
    "**(c) Solve the problem graphically by plotting the feasible set and at least two isoprofit lines for the objective function. Confirm that you obtain the same solution as in the previous parts.**"
   ]
  },
  {
   "cell_type": "markdown",
   "metadata": {},
   "source": [
    "![](plot.png)"
   ]
  },
  {
   "cell_type": "markdown",
   "metadata": {},
   "source": [
    "## Problem 3"
   ]
  },
  {
   "cell_type": "markdown",
   "metadata": {},
   "source": [
    "**(a) Convert the problem to standard form.**"
   ]
  },
  {
   "cell_type": "code",
   "execution_count": 27,
   "metadata": {},
   "outputs": [],
   "source": [
    "#x1 = y1\n",
    "#x2 = -y2\n",
    "#x3 = y3\n",
    "#x4 = 5 + y4"
   ]
  },
  {
   "cell_type": "markdown",
   "metadata": {},
   "source": [
    "objective function\n",
    "$$ -\\max_{y_{1}, y_{2}, y_{3}, y_{4}}{-\\frac{1}{2}y_{1} - 7y_{2} - \\frac{1}{3}y_{3}} $$\n",
    "constraints\n",
    "$$- y_{1} + y_{2} + 2y_{3} - 0.5y_{4} \\leq -7.5 $$\n",
    "$$− y_{1} - 3y_{2} \\leq −2$$\n",
    "$$y_{4} \\leq 0$$\n",
    "$$ y_{1}\\geq 0, y_{2} \\geq 0, y_{3} \\geq 0, y_{4} \\geq 0 $$"
   ]
  },
  {
   "cell_type": "markdown",
   "metadata": {},
   "source": [
    "**(b) What are A, b, c,and x? Be sure to explain how the decision variables of your transformed LP relate to those of the original LP.**"
   ]
  },
  {
   "cell_type": "markdown",
   "metadata": {},
   "source": [
    "Decision variables relations:\n",
    "$$x_{1} = y_{1}, y_{1} \\geq 0$$\n",
    "$$x_{2} = -y_{2}, y_{2} \\geq 0$$\n",
    "$$x_{3} = y_{3}, y_{3} \\geq 0$$\n",
    "$$x_{4} = 5 + y_{4}, y_{4} \\geq 0, y_{4} \\leq 0 $$\n",
    "\n",
    "In transformed LP,  "
   ]
  },
  {
   "cell_type": "code",
   "execution_count": 29,
   "metadata": {},
   "outputs": [
    {
     "data": {
      "text/plain": [
       "3×4 Array{Float64,2}:\n",
       " -1.0   1.0  2.0  -0.5\n",
       " -1.0  -3.0  0.0   0.0\n",
       "  0.0   0.0  0.0   1.0"
      ]
     },
     "metadata": {},
     "output_type": "display_data"
    },
    {
     "data": {
      "text/plain": [
       "4-element Array{Symbol,1}:\n",
       " :y1\n",
       " :y2\n",
       " :y3\n",
       " :y4"
      ]
     },
     "metadata": {},
     "output_type": "display_data"
    },
    {
     "data": {
      "text/plain": [
       "4×1 LinearAlgebra.Adjoint{Float64,Array{Float64,2}}:\n",
       " -0.5               \n",
       " -7.0               \n",
       " -0.3333333333333333\n",
       "  0.0               "
      ]
     },
     "metadata": {},
     "output_type": "display_data"
    },
    {
     "data": {
      "text/plain": [
       "3-element Array{Float64,1}:\n",
       " -7.5\n",
       " -2.0\n",
       "  0.0"
      ]
     },
     "metadata": {},
     "output_type": "display_data"
    }
   ],
   "source": [
    "using JuMP, Clp\n",
    "m = Model(Clp.Optimizer)\n",
    "\n",
    "var = [:y1, :y2, :y3, :y4] \n",
    "\n",
    "A = [-1 1 2 -0.5; -1 -3 0 0; 0 0 0 1]\n",
    "x = [var[1];var[2];var[3];var[4]]\n",
    "c = [-0.5 -7 -(1/3) 0]'\n",
    "b = [-7.5; -2; 0]\n",
    "display(A)\n",
    "display(x)\n",
    "display(c)\n",
    "display(b)"
   ]
  },
  {
   "cell_type": "markdown",
   "metadata": {},
   "source": [
    "**(c) Solve the standard-form LP in Julia and report the objective value and the value of each decision variable in an optimal solution to the original LP.**\n"
   ]
  },
  {
   "cell_type": "code",
   "execution_count": 31,
   "metadata": {},
   "outputs": [
    {
     "name": "stdout",
     "output_type": "stream",
     "text": [
      "Max -0.5 y1 - 7 y2 - 0.3333333333333333 y3\n",
      "Subject to\n",
      " -y1 + y2 + 2 y3 - 0.5 y4 ≤ -7.5\n",
      " -y1 - 3 y2 ≤ -2.0\n",
      " y4 = 0.0\n",
      " y1 ≥ 0.0\n",
      " y2 ≥ 0.0\n",
      " y3 ≥ 0.0\n",
      "\n",
      "\n",
      "x1 = 7.5, y1 = 7.5\n",
      "x2 = 0.0, y2 = 0.0\n",
      "x3 = 0.0, y3 = 0.0\n",
      "x4 = 5.0, y4 = 0.0\n",
      "objective = 3.75\n",
      "Coin0506I Presolve 0 (-2) rows, 0 (-4) columns and 0 (-6) elements\n",
      "Clp3002W Empty problem - 0 rows, 0 columns and 0 elements\n",
      "Clp0000I Optimal - objective value -3.75\n",
      "Coin0511I After Postsolve, objective -3.75, infeasibilities - dual 0 (0), primal 0 (0)\n",
      "Clp0032I Optimal objective -3.75 - 0 iterations time 0.002, Presolve 0.00\n"
     ]
    }
   ],
   "source": [
    "# always specify which packages you're going to use\n",
    "using JuMP, Clp\n",
    "\n",
    "# create a new model object, specifying the solver\n",
    "m = Model(Clp.Optimizer)\n",
    "\n",
    "# four nonnegative variables\n",
    "@variable(m, y1 >= 0)\n",
    "@variable(m, y2 >= 0)\n",
    "@variable(m, y3 >= 0)\n",
    "@variable(m, y4 == 0)\n",
    "\n",
    "# two less than or equal to constraints\n",
    "@constraint(m, - y1 + y2 + 2*y3 - 0.5*y4 <= - 7.5 )\n",
    "@constraint(m, - y1 - 3*y2 <= -2 )\n",
    "\n",
    "# maximize the objective\n",
    "@objective(m, Max, - 0.5*y1 - 7*y2 - (1/3)*y3  )\n",
    "\n",
    "# solve the standard form model\n",
    "optimize!(m)\n",
    "\n",
    "# display the model and solution\n",
    "println(m)\n",
    "println()\n",
    "# remember to convert back to x1, x2, x3 and x4!\n",
    "println(\"x1 = \", value(y1), \", y1 = \", value(y1))\n",
    "println(\"x2 = \", value(-y2), \", y2 = \", value(y2) )\n",
    "println(\"x3 = \", value(y3), \", y3 = \", value(y3) )\n",
    "println(\"x4 = \", value(y4 + 5), \", y4 = \", value(y4) )\n",
    "# remember min f(x) = -max -f(x), so we need to report the negative of our objective value\n",
    "println(\"objective = \", -objective_value(m) )\n"
   ]
  },
  {
   "cell_type": "markdown",
   "metadata": {},
   "source": [
    "## Problem 4"
   ]
  },
  {
   "cell_type": "markdown",
   "metadata": {},
   "source": [
    "**(a) Formulate a linear program that MineCo can use to determine how many tons of ore to extract from each site today in order to maximize their total value. Give a general form (no numbers) of the math model.**"
   ]
  },
  {
   "cell_type": "markdown",
   "metadata": {},
   "source": [
    "objective function\n",
    "$$ \\max_{mine_{1}, mine_{2},..., mine_{40}}{mines.' \\cdot vals} $$\n",
    "constraints\n",
    "$$ (mines.' \\cdot attributes).'[n] \\leq maxpercent[n], n = 1,2,3,...,7 $$\n",
    "$$ (mines.' \\cdot attributes).'[n] \\geq minpercent[n], n = 1,2,3,...,7 $$\n",
    "$$ mine_{1} + mine_{2} +...+ mine_{40} \\leq 1000$$\n",
    "$$ mine_{1}, mine_{2},..., mine_{40}\\geq 0 $$\n",
    "\n",
    "Terminologies: $mine_{i}$ denotes the total number of tons of ores from $mine_{i}$. mines denotes a vector $(40*1)$ consisting of $mine_{i}$, $i \\in [1, 40]$. vals denotes a vector $(40*1)$ consisting of every value from each mine. attributes is a matrix $(40*7)$ consisting of all the mine-attribute pairs $(mine_{i}, attribute_{j})$. maxpercent and minpercent are vectors $(7*1)$ which set bounds for each attribute."
   ]
  },
  {
   "cell_type": "markdown",
   "metadata": {},
   "source": [
    "**(b) Implement and solve this instance of the model in Julia/JuMP. Display the optimal objective value and the optimal mining plan (in tons extracted from each site).**"
   ]
  },
  {
   "cell_type": "code",
   "execution_count": 32,
   "metadata": {},
   "outputs": [
    {
     "name": "stdout",
     "output_type": "stream",
     "text": [
      "\u001b[32m\u001b[1m Resolving\u001b[22m\u001b[39m package versions...\n",
      "\u001b[32m\u001b[1m  Updating\u001b[22m\u001b[39m `~/.julia/environments/v1.3/Project.toml`\n",
      "\u001b[90m [no changes]\u001b[39m\n",
      "\u001b[32m\u001b[1m  Updating\u001b[22m\u001b[39m `~/.julia/environments/v1.3/Manifest.toml`\n",
      "\u001b[90m [no changes]\u001b[39m\n",
      "\u001b[32m\u001b[1m Resolving\u001b[22m\u001b[39m package versions...\n",
      "\u001b[32m\u001b[1m  Updating\u001b[22m\u001b[39m `~/.julia/environments/v1.3/Project.toml`\n",
      "\u001b[90m [no changes]\u001b[39m\n",
      "\u001b[32m\u001b[1m  Updating\u001b[22m\u001b[39m `~/.julia/environments/v1.3/Manifest.toml`\n",
      "\u001b[90m [no changes]\u001b[39m\n"
     ]
    },
    {
     "name": "stderr",
     "output_type": "stream",
     "text": [
      "┌ Warning: `lastindex(df::AbstractDataFrame)` is deprecated, use `ncol(df)` instead.\n",
      "│   caller = top-level scope at In[32]:15\n",
      "└ @ Core In[32]:15\n",
      "┌ Warning: `getindex(df::DataFrame, col_inds::Union{AbstractVector, Regex, Not})` is deprecated, use `df[:, col_inds]` instead.\n",
      "│   caller = top-level scope at In[32]:15\n",
      "└ @ Core In[32]:15\n"
     ]
    },
    {
     "data": {
      "text/plain": [
       "40×7 Named Array{Any,2}\n",
       "sites ╲ attributes │   Gold (%)  Carbon (%)  …    Coal (%)  Silica (%)\n",
       "───────────────────┼──────────────────────────────────────────────────\n",
       "1                  │          6          16  …           7          12\n",
       "2                  │         10          12              8          10\n",
       "3                  │          4           9             19          19\n",
       "4                  │         20           8              8          16\n",
       "5                  │         14           9              8           8\n",
       "6                  │         11           5             11          19\n",
       "7                  │          3          14             17          10\n",
       "8                  │         18           2             15          11\n",
       "9                  │          7          13             10          11\n",
       "10                 │         17          18              6          19\n",
       "11                 │          8          13             18          15\n",
       "12                 │          2          19              1          17\n",
       "⋮                             ⋮           ⋮  ⋱           ⋮           ⋮\n",
       "29                 │         14          13             20           8\n",
       "30                 │         19          18              1          11\n",
       "31                 │          7           7              4          11\n",
       "32                 │         11           6              0           8\n",
       "33                 │         14          16              4           3\n",
       "34                 │          5           6             14           9\n",
       "35                 │          4           6              8           6\n",
       "36                 │          5          18              1          13\n",
       "37                 │          8           6              7           5\n",
       "38                 │         16          12              5           2\n",
       "39                 │          6          15             15           7\n",
       "40                 │         19           3  …           1          13"
      ]
     },
     "execution_count": 32,
     "metadata": {},
     "output_type": "execute_result"
    }
   ],
   "source": [
    "# Problem data\n",
    "\n",
    "using Pkg\n",
    "Pkg.add(\"DataFrames\")\n",
    "Pkg.add(\"CSV\")\n",
    "\n",
    "#You might need to run \"Pkg.add(...)\" before using these packages\n",
    "using DataFrames, CSV, NamedArrays \n",
    "\n",
    "#Load the data file\n",
    "raw = CSV.read(\"mineco.csv\"); \n",
    "\n",
    "# turn DataFrame into an array\n",
    "mine_array = convert(Array,raw);\n",
    "\n",
    "# the names of the DataFrame (header) are the attributes\n",
    "attributes = names(raw[3:end]);\n",
    "\n",
    "# create a list of mining sites from the mine array\n",
    "sites = mine_array[3:end,1];\n",
    "\n",
    "# create a dictionary of the value of each mining site's ore (per ton)\n",
    "ore_val = Dict(zip(sites,mine_array[3:end,2]));\n",
    "\n",
    "# create a dictionary of the value of min and max % of each attribute\n",
    "min_percent = Dict(zip(attributes,mine_array[1,3:end]));\n",
    "max_percent = Dict(zip(attributes,mine_array[2,3:end]));\n",
    "\n",
    "# create a NamedArray that specifies the % of each attribute at each site\n",
    "using NamedArrays\n",
    "mine_attribute_matrix = mine_array[3:end,3:end]\n",
    "\n",
    "# rows are sites, columns are attributes\n",
    "mine_attribute_array = NamedArray(mine_attribute_matrix, (sites, attributes),(\"sites\",\"attributes\"))\n",
    "\n",
    "\n",
    "# note this syntax uses some deprecated commands, so you'll get a warning␣ 􏱃→message when you run it\n",
    "# the code should still work (you can ignore the warning)"
   ]
  },
  {
   "cell_type": "code",
   "execution_count": 33,
   "metadata": {},
   "outputs": [
    {
     "name": "stdout",
     "output_type": "stream",
     "text": [
      "objective = 2544.5124821989257\n",
      "How many tons of ore in each mining site should be mined today?\n",
      "14:0.3089194104627416\n",
      "17:0.1462433299589934\n",
      "18:0.01427946399464688\n",
      "20:0.2708165331228662\n",
      "27:0.11942161522227668\n",
      "34:0.23695159823619322\n",
      "Coin0506I Presolve 12 (-3) rows, 40 (0) columns and 462 (-114) elements\n",
      "Clp0006I 0  Obj -0 Primal inf 0.61578447 (5) Dual inf 474486.65 (40)\n",
      "Clp0006I 10  Obj 2544.5125\n",
      "Clp0000I Optimal - objective value 2544.5125\n",
      "Coin0511I After Postsolve, objective 2544.5125, infeasibilities - dual 0 (0), primal 0 (0)\n",
      "Clp0032I Optimal objective 2544.512482 - 10 iterations time 0.002, Presolve 0.00\n"
     ]
    }
   ],
   "source": [
    "# Math model\n",
    "\n",
    "using JuMP, Clp\n",
    "\n",
    "# create a new model object, specifying the solver\n",
    "m = Model(Clp.Optimizer)\n",
    "\n",
    "# variables are the list of the number (tons) of each site\n",
    "@variable(m, num[sites] >= 0)\n",
    "\n",
    "# maximize total value by summing (Value/ton * # site) for each site\n",
    "@objective(m, Max, sum(ore_val[i] * num[i] for i in sites) )   \n",
    "\n",
    "# contraints are the min and max, and 1000 total tons\n",
    "@constraint(m, meet_req[n in attributes], sum(mine_attribute_array[i,n] * num[i] for i in sites) <= max_percent[n]) \n",
    "@constraint(m, meet_req2[n in attributes], sum(mine_attribute_array[i,n] * num[i] for i in sites) >= min_percent[n]) \n",
    "@constraint(m, sum(num[i] for i in sites) <= 1000) #MineCo can extract up to 1000 total tons today\n",
    "\n",
    "# solve the standard form model\n",
    "optimize!(m)\n",
    "\n",
    "# display the model and solution\n",
    "println(\"objective = \", objective_value(m) )\n",
    "println(\"How many tons of ore in each mining site should be mined today?\")\n",
    "for i in sites \n",
    "    if value(num[i]) > 10e-5\n",
    "        println(i ,\":\", value(num[i]))\n",
    "    end\n",
    "end"
   ]
  },
  {
   "cell_type": "code",
   "execution_count": null,
   "metadata": {},
   "outputs": [],
   "source": [
    "# other sites: 0 tons of ore"
   ]
  }
 ],
 "metadata": {
  "kernelspec": {
   "display_name": "Julia 1.3.1",
   "language": "julia",
   "name": "julia-1.3"
  },
  "language_info": {
   "file_extension": ".jl",
   "mimetype": "application/julia",
   "name": "julia",
   "version": "1.3.1"
  }
 },
 "nbformat": 4,
 "nbformat_minor": 4
}
